{
 "cells": [
  {
   "cell_type": "markdown",
   "metadata": {},
   "source": [
    "# Container With Most Water"
   ]
  },
  {
   "cell_type": "code",
   "execution_count": 1,
   "metadata": {
    "collapsed": true
   },
   "outputs": [],
   "source": [
    "class Solution:\n",
    "    def maxArea(self, height):\n",
    "        left = 0\n",
    "        right = len(height)-1\n",
    "        maxResult = 0\n",
    "        while left < right:\n",
    "            maxResult = max(maxResult, min(height[left], height[right])*(right-left))\n",
    "            if height[left] < height[right]:\n",
    "                left += 1\n",
    "            else:\n",
    "                right -= 1\n",
    "        return maxResult\n",
    "        \"\"\"\n",
    "        :type height: List[int]\n",
    "        :rtype: int\n",
    "        \"\"\""
   ]
  },
  {
   "cell_type": "markdown",
   "metadata": {},
   "source": [
    "# 3Sum"
   ]
  },
  {
   "cell_type": "code",
   "execution_count": 25,
   "metadata": {
    "collapsed": true
   },
   "outputs": [],
   "source": [
    "class Solution:\n",
    "    def threeSum(self, nums):\n",
    "        nums.sort()\n",
    "        result = []\n",
    "        listLen = len(nums)\n",
    "        count =0\n",
    "        if listLen < 3:\n",
    "            return result\n",
    "        for index in range(listLen-2):\n",
    "            if nums[index]>0:\n",
    "                break\n",
    "            if index==0 or (index>0 and nums[index]!=nums[index-1]):\n",
    "                sum2Numbers = -nums[index]\n",
    "                left = index+1\n",
    "                right = listLen-1\n",
    "                while left<right:\n",
    "                    if nums[left]+nums[right] == sum2Numbers:\n",
    "                        result.append([nums[index], nums[left], nums[right]])\n",
    "                        while (left<right) and (nums[left]==nums[left+1]):\n",
    "                            left+=1\n",
    "                        while (left<right) and (nums[right]==nums[right-1]):\n",
    "                            right-=1\n",
    "                        left+=1\n",
    "                        right-=1\n",
    "                    elif nums[left]+nums[right] < sum2Numbers:\n",
    "                        left+=1\n",
    "                    else:\n",
    "                        right-=1\n",
    "                        \n",
    "        return result\n",
    "        "
   ]
  },
  {
   "cell_type": "markdown",
   "metadata": {
    "collapsed": true
   },
   "source": [
    "## 3Sum Closet"
   ]
  },
  {
   "cell_type": "code",
   "execution_count": 33,
   "metadata": {
    "collapsed": true
   },
   "outputs": [],
   "source": [
    "import sys\n",
    "class Solution:\n",
    "    def threeSumClosest(self, nums, target):\n",
    "        listLen = len(nums)\n",
    "        resultList = []\n",
    "        result = sys.maxsize\n",
    "        diff = sys.maxsize\n",
    "        if listLen<3:\n",
    "            return NaN\n",
    "        nums.sort()\n",
    "        for index in range(listLen-2):\n",
    "            sum2_target = nums[index]-target\n",
    "            left = index+1\n",
    "            right = listLen-1\n",
    "            while left<right:\n",
    "                sum3_result = nums[left]+nums[right]+sum2_target\n",
    "                if abs(sum3_result) < diff:\n",
    "                    diff = abs(sum3_result)\n",
    "                    result = nums[index]+nums[left]+nums[right]\n",
    "                if sum3_result>0:\n",
    "                    right-=1\n",
    "                elif sum3_result<0:\n",
    "                    left+=1\n",
    "                else:\n",
    "                    return result\n",
    "        return result\n",
    "            "
   ]
  },
  {
   "cell_type": "markdown",
   "metadata": {},
   "source": [
    "## 4Sum"
   ]
  },
  {
   "cell_type": "code",
   "execution_count": 10,
   "metadata": {
    "collapsed": true
   },
   "outputs": [],
   "source": [
    "class Solution:\n",
    "    def fourSum(self, nums, target):\n",
    "        \"\"\"\n",
    "        :type nums: List[int]\n",
    "        :type target: int\n",
    "        :rtype: List[List[int]]\n",
    "        \"\"\"\n",
    "        list_len = len(nums)\n",
    "        result = []\n",
    "        if list_len<4:\n",
    "            return result\n",
    "        nums.sort()\n",
    "        for index1 in range(list_len-3):\n",
    "            three_num_target = target-nums[index1]\n",
    "            if index1==0 or (index1>0 and nums[index1]!=nums[index1-1]):\n",
    "                for index2 in range(index1+1, list_len-2):\n",
    "                    if index2==index1+1 or (nums[index2]!=nums[index2-1]):\n",
    "                        two_num_target = three_num_target-nums[index2]\n",
    "                        left = index2+1\n",
    "                        right = list_len-1\n",
    "                        while left<right:\n",
    "                            if nums[left]+nums[right] == two_num_target:\n",
    "                                result.append([nums[index1], nums[index2], nums[left], nums[right]])\n",
    "                                while left<right and (nums[left]==nums[left+1]):\n",
    "                                    left+=1\n",
    "                                while left<right and (nums[right]==nums[right-1]):\n",
    "                                    right-=1\n",
    "                                left+=1\n",
    "                                right-=1\n",
    "                            elif nums[left]+nums[right] < two_num_target:\n",
    "                                left+=1\n",
    "                            else:\n",
    "                                right-=1\n",
    "        return result"
   ]
  },
  {
   "cell_type": "code",
   "execution_count": 46,
   "metadata": {
    "collapsed": true
   },
   "outputs": [],
   "source": [
    "class Solution:\n",
    "    def fourSumCount(self, A, B, C, D):\n",
    "        \"\"\"\n",
    "        :type A: List[int]\n",
    "        :type B: List[int]\n",
    "        :type C: List[int]\n",
    "        :type D: List[int]\n",
    "        :rtype: int\n",
    "        \"\"\"\n",
    "        AB = collections.Counter(a+b for a in A for b in B)\n",
    "        return sum(AB[-c-d] for c in C for d in D)"
   ]
  },
  {
   "cell_type": "code",
   "execution_count": 60,
   "metadata": {
    "collapsed": true
   },
   "outputs": [],
   "source": [
    "class Solution:\n",
    "    def removeDuplicates(self, nums):\n",
    "        \"\"\"\n",
    "        :type nums: List[int]\n",
    "        :rtype: int\n",
    "        \"\"\"\n",
    "        j=0\n",
    "        for i in range(1, len(nums)):\n",
    "            if nums[j]!=nums[i]:\n",
    "                j+=1\n",
    "                nums[j]=nums[i]\n",
    "        return nums[:j+1]"
   ]
  },
  {
   "cell_type": "code",
   "execution_count": null,
   "metadata": {
    "collapsed": true,
    "scrolled": true
   },
   "outputs": [],
   "source": []
  },
  {
   "cell_type": "code",
   "execution_count": 77,
   "metadata": {
    "collapsed": true
   },
   "outputs": [],
   "source": [
    "class Solution:\n",
    "    def removeElement(self, nums, val):\n",
    "        \"\"\"\n",
    "        :type nums: List[int]\n",
    "        :type val: int\n",
    "        :rtype: int\n",
    "        \"\"\"\n",
    "        for index1 in range(len(nums)):\n",
    "            if nums[index1]==val:\n",
    "                j = index1\n",
    "                for index2 in range(index1, len(nums)):\n",
    "                    if nums[index2]!=val:\n",
    "                        nums[j]=nums[index2]\n",
    "                        j+=1\n",
    "                return nums[:j]\n",
    "        return len(nums)"
   ]
  },
  {
   "cell_type": "code",
   "execution_count": 78,
   "metadata": {},
   "outputs": [
    {
     "data": {
      "text/plain": [
       "[2, 2]"
      ]
     },
     "execution_count": 78,
     "metadata": {},
     "output_type": "execute_result"
    }
   ],
   "source": []
  },
  {
   "cell_type": "markdown",
   "metadata": {
    "collapsed": true
   },
   "source": [
    "## Next Permutation "
   ]
  },
  {
   "cell_type": "code",
   "execution_count": 34,
   "metadata": {
    "collapsed": true
   },
   "outputs": [],
   "source": [
    "class Solution:\n",
    "    def nextPermutation(self, nums):\n",
    "        i = len(nums)-1\n",
    "        while i>0 and (nums[i-1] >= nums[i]):\n",
    "            i-=1\n",
    "        if i!=0:\n",
    "            for j in range(i, len(nums)):\n",
    "                if nums[j]<=nums[i-1]:\n",
    "                    tmp=nums[j-1]\n",
    "                    nums[j-1]=nums[i-1]\n",
    "                    nums[i-1]=tmp\n",
    "                    break\n",
    "                if j==len(nums)-1:\n",
    "                    tmp=nums[j]\n",
    "                    nums[j]=nums[i-1]\n",
    "                    nums[i-1]=tmp\n",
    "        left_inverse_index=i\n",
    "        right_inverse_index=len(nums)-1\n",
    "        while left_inverse_index<right_inverse_index:\n",
    "            tmp=nums[right_inverse_index]\n",
    "            nums[right_inverse_index]=nums[left_inverse_index]\n",
    "            nums[left_inverse_index]=tmp\n",
    "            left_inverse_index+=1\n",
    "            right_inverse_index-=1"
   ]
  },
  {
   "cell_type": "markdown",
   "metadata": {},
   "source": [
    "## Permutations"
   ]
  },
  {
   "cell_type": "code",
   "execution_count": 60,
   "metadata": {
    "collapsed": true
   },
   "outputs": [],
   "source": [
    "class Solution:\n",
    "    def permute(self, nums):\n",
    "        def findPermutations(nums, level, result, visited, out):\n",
    "            if level==len(nums):\n",
    "                result.append(list(out))\n",
    "            else:\n",
    "                for i in range(len(nums)):\n",
    "                    if visited[i]==0:\n",
    "                        if i>0 and nums[i]==nums[i-1] and visited[i]==0:\n",
    "                            continue\n",
    "                        out.append(nums[i])\n",
    "                        visited[i]=1\n",
    "                        findPermutations(nums, level+1, result, visited, out)\n",
    "                        out.pop()\n",
    "                        visited[i]=0\n",
    "        result = []\n",
    "        if len(nums)!=0:\n",
    "            visited = [0]*len(nums)\n",
    "            out = []\n",
    "            findPermutations(nums, 0, result, visited, out)\n",
    "        return result"
   ]
  },
  {
   "cell_type": "markdown",
   "metadata": {},
   "source": [
    "## Permutations II"
   ]
  },
  {
   "cell_type": "code",
   "execution_count": 76,
   "metadata": {
    "collapsed": true
   },
   "outputs": [],
   "source": [
    "class Solution:\n",
    "    def permuteUnique(self, nums):\n",
    "        def findPermutations(nums, level, result, visited, out):\n",
    "            if level==len(nums):\n",
    "                result.append(list(out))\n",
    "            else:\n",
    "                for i in range(len(nums)):\n",
    "                    if visited[i]==0:\n",
    "                        if i>0 and nums[i]==nums[i-1] and visited[i-1]==0:\n",
    "                            continue\n",
    "                        out.append(nums[i])\n",
    "                        visited[i]=1\n",
    "                        findPermutations(nums, level+1, result, visited, out)\n",
    "                        out.pop()\n",
    "                        visited[i]=0\n",
    "        result = []\n",
    "        if len(nums)!=0:\n",
    "            nums.sort()\n",
    "            visited = [0]*len(nums)\n",
    "            out = []\n",
    "            findPermutations(nums, 0, result, visited, out)\n",
    "        return result"
   ]
  },
  {
   "cell_type": "markdown",
   "metadata": {},
   "source": [
    "## Search in Rotated Sorted Array"
   ]
  },
  {
   "cell_type": "code",
   "execution_count": 17,
   "metadata": {
    "collapsed": true
   },
   "outputs": [],
   "source": [
    "class Solution:\n",
    "    def search(self, nums, target):\n",
    "        \"\"\"\n",
    "        :type nums: List[int]\n",
    "        :type target: int\n",
    "        :rtype: int\n",
    "        \"\"\"\n",
    "        def binarySearchInRotatedSortedArray(nums, start, end, target):\n",
    "            if start>end:\n",
    "                return -1\n",
    "            mid = int((start+end)/2)\n",
    "            print('mid: ', mid)\n",
    "            if nums[mid]==target:\n",
    "                return mid\n",
    "            if nums[mid]>=nums[start]:\n",
    "                if target>=nums[start] and target<nums[mid]:\n",
    "                    print(1)\n",
    "                    return binarySearchInRotatedSortedArray(nums, start, mid-1, target)\n",
    "                else:\n",
    "                    print(2)\n",
    "                    return binarySearchInRotatedSortedArray(nums, mid+1, end, target)\n",
    "            else:\n",
    "                if target>nums[mid] and target<=nums[end]:\n",
    "                    print(3)\n",
    "                    return binarySearchInRotatedSortedArray(nums, mid+1, end, target)\n",
    "                else:\n",
    "                    print(4)\n",
    "                    return binarySearchInRotatedSortedArray(nums, start, mid-1, target)\n",
    "        return binarySearchInRotatedSortedArray(nums, 0, len(nums)-1, target)\n",
    "        "
   ]
  },
  {
   "cell_type": "markdown",
   "metadata": {},
   "source": [
    "## Search in Rotated Sorted Array"
   ]
  },
  {
   "cell_type": "code",
   "execution_count": 30,
   "metadata": {
    "collapsed": true
   },
   "outputs": [],
   "source": [
    "class Solution:\n",
    "    def search(self, nums, target):\n",
    "        \"\"\"\n",
    "        :type nums: List[int]\n",
    "        :type target: int\n",
    "        :rtype: int\n",
    "        \"\"\"\n",
    "        start = 0\n",
    "        end = len(nums)-1\n",
    "        while start<=end:\n",
    "            mid = int((start+end)/2)\n",
    "            if nums[mid]==target:\n",
    "                return True\n",
    "            if nums[mid]<nums[end]:\n",
    "                if nums[mid]<target and target<=nums[end]:\n",
    "                    start=mid+1\n",
    "                else:\n",
    "                    end=mid-1\n",
    "            elif nums[mid]>nums[end]:\n",
    "                if nums[start]<=target and target<nums[mid]:\n",
    "                    end = mid -1\n",
    "                else:\n",
    "                    start = mid+1\n",
    "            else:\n",
    "                end-=1\n",
    "        return False"
   ]
  },
  {
   "cell_type": "code",
   "execution_count": 29,
   "metadata": {},
   "outputs": [
    {
     "name": "stdout",
     "output_type": "stream",
     "text": [
      "mid:  0\n"
     ]
    },
    {
     "data": {
      "text/plain": [
       "False"
      ]
     },
     "execution_count": 29,
     "metadata": {},
     "output_type": "execute_result"
    }
   ],
   "source": [
    "solution = Solution()\n",
    "solution.search([1], 0)"
   ]
  },
  {
   "cell_type": "markdown",
   "metadata": {},
   "source": [
    "## Rotate Array"
   ]
  },
  {
   "cell_type": "code",
   "execution_count": 45,
   "metadata": {
    "collapsed": true
   },
   "outputs": [],
   "source": [
    "class Solution:\n",
    "    def rotate(self, nums, k):\n",
    "        \"\"\"\n",
    "        :type nums: List[int]\n",
    "        :type k: int\n",
    "        :rtype: void Do not return anything, modify nums in-place instead.\n",
    "        \"\"\"\n",
    "        list_len = len(nums)\n",
    "        nums[:list_len-k] = reversed(nums[:list_len-k])\n",
    "        nums[list_len-k:] = reversed(nums[list_len-k:])\n",
    "        nums.reverse()"
   ]
  },
  {
   "cell_type": "code",
   "execution_count": 46,
   "metadata": {
    "collapsed": true
   },
   "outputs": [],
   "source": [
    "solution = Solution()\n",
    "solution.rotate([1, 2, 3, 4], 2)"
   ]
  },
  {
   "cell_type": "markdown",
   "metadata": {},
   "source": [
    "## Search for a Range"
   ]
  },
  {
   "cell_type": "code",
   "execution_count": 29,
   "metadata": {
    "collapsed": true
   },
   "outputs": [],
   "source": [
    "class Solution:\n",
    "    def binarySearch(self, nums, target, start, end, result):\n",
    "        if start>end:\n",
    "            return\n",
    "        middle = int((start+end)/2)\n",
    "        if target==nums[middle]:\n",
    "            tmp_inc_index = middle+1\n",
    "            tmp_des_index = middle-1\n",
    "            while tmp_inc_index<=end and nums[middle]==nums[tmp_inc_index]:\n",
    "                tmp_inc_index+=1\n",
    "            while tmp_des_index>=start and nums[middle]==nums[tmp_des_index]:\n",
    "                tmp_des_index-=1\n",
    "            result.extend([tmp_des_index+1, tmp_inc_index-1])\n",
    "        elif target>nums[middle]:\n",
    "            self.binarySearch(nums, target, middle+1, end, result)\n",
    "        else:\n",
    "            self.binarySearch(nums, target, start, middle-1, result)\n",
    "    def searchRange(self, nums, target):\n",
    "        \"\"\"\n",
    "        :type nums: List[int]\n",
    "        :type target: int\n",
    "        :rtype: List[int]\n",
    "        \"\"\"     \n",
    "        result = []\n",
    "        self.binarySearch(nums, target, 0, len(nums)-1, result)\n",
    "        if len(result)==0:\n",
    "            result=[-1, -1]\n",
    "        return result\n",
    "                      "
   ]
  },
  {
   "cell_type": "markdown",
   "metadata": {
    "collapsed": true
   },
   "source": [
    "## Search For Insert"
   ]
  },
  {
   "cell_type": "code",
   "execution_count": 37,
   "metadata": {
    "collapsed": true
   },
   "outputs": [],
   "source": [
    "class Solution:\n",
    "    def searchInsert(self, nums, target):\n",
    "        \"\"\"\n",
    "        :type nums: List[int]\n",
    "        :type target: int\n",
    "        :rtype: int\n",
    "        \"\"\"\n",
    "        return self.binarySearch(nums, target, 0, len(nums)-1)\n",
    "        \n",
    "    def binarySearch(self, nums, target, start, end):\n",
    "        if start>end:\n",
    "            return start\n",
    "        else:\n",
    "            mid = int((start+end)/2)\n",
    "            if nums[mid]>target:\n",
    "                return self.binarySearch(nums, target, start, mid-1)\n",
    "            elif nums[mid]==target:\n",
    "                return mid\n",
    "            else:\n",
    "                return self.binarySearch(nums, target, mid+1, end)\n",
    "            "
   ]
  },
  {
   "cell_type": "markdown",
   "metadata": {},
   "source": [
    "## Combination Sum"
   ]
  },
  {
   "cell_type": "code",
   "execution_count": 39,
   "metadata": {
    "collapsed": true
   },
   "outputs": [],
   "source": [
    "class Solution:\n",
    "    def combinationSum(self, candidates, target):\n",
    "        \"\"\"\n",
    "        :type candidates: List[int]\n",
    "        :type target: int\n",
    "        :rtype: List[List[int]]\n",
    "        \"\"\"\n",
    "        tmp_result=[]\n",
    "        final_result=[]\n",
    "        candidates.sort()\n",
    "        self.deepSearch(candidates, target, 0, tmp_result, final_result)\n",
    "        return final_result\n",
    "    \n",
    "    def deepSearch(self, candidates, target, start, tmp_result, final_result):\n",
    "        if target==0:\n",
    "            final_result.append(list(tmp_result))\n",
    "            return\n",
    "        for tmp_index in range(start, len(candidates)):\n",
    "            if tmp_index>start and candidates[tmp_index]==candidates[tmp_index-1]:\n",
    "                continue\n",
    "            if candidates[tmp_index]<=target:\n",
    "                tmp_result.append(candidates[tmp_index])\n",
    "                self.deepSearch(candidates, target-candidates[tmp_index], tmp_index, tmp_result, final_result)\n",
    "                tmp_result.pop()\n",
    "            "
   ]
  },
  {
   "cell_type": "markdown",
   "metadata": {},
   "source": [
    "## Combination Sum II "
   ]
  },
  {
   "cell_type": "code",
   "execution_count": 40,
   "metadata": {
    "collapsed": true
   },
   "outputs": [],
   "source": [
    "class Solution:\n",
    "    def combinationSum2(self, candidates, target):\n",
    "        \"\"\"\n",
    "        :type candidates: List[int]\n",
    "        :type target: int\n",
    "        :rtype: List[List[int]]\n",
    "        \"\"\"\n",
    "        tmp_result=[]\n",
    "        final_result=[]\n",
    "        candidates.sort()\n",
    "        self.deepSearch(candidates, target, 0, tmp_result, final_result)\n",
    "        return final_result\n",
    "    \n",
    "    def deepSearch(self, candidates, target, start, tmp_result, final_result):\n",
    "        if target==0:\n",
    "            final_result.append(list(tmp_result))\n",
    "            return\n",
    "        for tmp_index in range(start, len(candidates)):\n",
    "            if tmp_index>start and candidates[tmp_index]==candidates[tmp_index-1]:\n",
    "                continue\n",
    "            if candidates[tmp_index]<=target:\n",
    "                tmp_result.append(candidates[tmp_index])\n",
    "                self.deepSearch(candidates, target-candidates[tmp_index], tmp_index+1, tmp_result, final_result)\n",
    "                tmp_result.pop()"
   ]
  },
  {
   "cell_type": "markdown",
   "metadata": {},
   "source": [
    "## Rotate Image"
   ]
  },
  {
   "cell_type": "code",
   "execution_count": 42,
   "metadata": {
    "collapsed": true
   },
   "outputs": [],
   "source": [
    "class Solution:\n",
    "    def rotate(self, matrix):\n",
    "        \"\"\"\n",
    "        :type matrix: List[List[int]]\n",
    "        :rtype: void Do not return anything, modify matrix in-place instead.\n",
    "        \"\"\"\n",
    "        n=len(matrix)\n",
    "        for x in range(0, n):\n",
    "            for y in range(x+1, n):\n",
    "                tmp = matrix[x][y]\n",
    "                matrix[x][y]=matrix[y][x]\n",
    "                matrix[y][x]=tmp\n",
    "        for x in range(0, n):\n",
    "            for y in range(0, int(n/2)):\n",
    "                tmp = matrix[x][y]\n",
    "                matrix[x][y]=matrix[x][n-y-1]\n",
    "                matrix[x][n-y-1]=tmp\n",
    "                "
   ]
  },
  {
   "cell_type": "markdown",
   "metadata": {},
   "source": [
    "## Maximum Subarray"
   ]
  },
  {
   "cell_type": "code",
   "execution_count": 46,
   "metadata": {
    "collapsed": true
   },
   "outputs": [],
   "source": [
    "class Solution:\n",
    "    def maxSubArray(self, nums):\n",
    "        \"\"\"\n",
    "        :type nums: List[int]\n",
    "        :rtype: int\n",
    "        \"\"\"\n",
    "        max_sum = nums[0]\n",
    "        current_sum = nums[0]\n",
    "        for index in range(1, len(nums)):\n",
    "            if current_sum>0:\n",
    "                current_sum = current_sum+nums[index]\n",
    "            else:\n",
    "                current_sum = nums[index]\n",
    "            max_sum=max(max_sum, current_sum)\n",
    "        return max_sum"
   ]
  },
  {
   "cell_type": "markdown",
   "metadata": {},
   "source": [
    "## Maximum Product Subarray"
   ]
  },
  {
   "cell_type": "code",
   "execution_count": 51,
   "metadata": {
    "collapsed": true
   },
   "outputs": [],
   "source": [
    "class Solution:\n",
    "    def maxProduct(self, nums):\n",
    "        \"\"\"\n",
    "        :type nums: List[int]\n",
    "        :rtype: int\n",
    "        \"\"\"\n",
    "        current_max = nums[0]\n",
    "        current_min = nums[0]\n",
    "        max_product = nums[0]\n",
    "        for index in range(1, len(nums)):\n",
    "            tmp_max = current_max\n",
    "            tmp_min = current_min\n",
    "            current_max = max(nums[index], tmp_max*nums[index], tmp_min*nums[index])\n",
    "            current_min = min(nums[index], tmp_max*nums[index], tmp_min*nums[index])\n",
    "            max_product = max(current_max, max_product)\n",
    "            print(current_max, current_min, max_product)\n",
    "            \n",
    "        return max_product\n",
    "    "
   ]
  },
  {
   "cell_type": "markdown",
   "metadata": {},
   "source": [
    "## House Robber"
   ]
  },
  {
   "cell_type": "code",
   "execution_count": 56,
   "metadata": {
    "collapsed": true
   },
   "outputs": [],
   "source": [
    "class Solution:\n",
    "    def rob(self, nums):\n",
    "        \"\"\"\n",
    "        :type nums: List[int]\n",
    "        :rtype: int\n",
    "        \"\"\"\n",
    "        list_len = len(nums)\n",
    "        if list_len==2:\n",
    "            return max(nums[0], nums[1])\n",
    "        elif list_len==1:\n",
    "            return nums[0]\n",
    "        elif list_len==0:\n",
    "            return 0\n",
    "        else:\n",
    "            current_result_one = nums[0]\n",
    "            current_result_two = max(nums[0], nums[1])\n",
    "            for index in range(2, list_len):\n",
    "                tmp = current_result_two\n",
    "                current_result_two=max(nums[index]+current_result_one, current_result_two)\n",
    "                current_result_one=tmp\n",
    "            return current_result_two\n",
    "                "
   ]
  },
  {
   "cell_type": "markdown",
   "metadata": {},
   "source": [
    "## House Robber II"
   ]
  },
  {
   "cell_type": "code",
   "execution_count": 58,
   "metadata": {
    "collapsed": true
   },
   "outputs": [],
   "source": [
    "class Solution:\n",
    "    def rob(self, nums):\n",
    "        \"\"\"\n",
    "        :type nums: List[int]\n",
    "        :rtype: int\n",
    "        \"\"\"\n",
    "        list_len = len(nums)\n",
    "        if list_len==2:\n",
    "            return max(nums[0], nums[1])\n",
    "        elif list_len==1:\n",
    "            return nums[0]\n",
    "        elif list_len==0:\n",
    "            return 0\n",
    "        else:\n",
    "            return max(self.robI(nums, 0, list_len-1), self.robI(nums, 1, list_len))\n",
    "    def robI(self, nums, start, end):\n",
    "        current_result_one = nums[start]\n",
    "        current_result_two = max(nums[start], nums[start+1])\n",
    "        for index in range(start+2, end):\n",
    "            tmp = current_result_two\n",
    "            current_result_two=max(nums[index]+current_result_one, current_result_two)\n",
    "            current_result_one=tmp\n",
    "        return current_result_two"
   ]
  },
  {
   "cell_type": "markdown",
   "metadata": {},
   "source": [
    "## House Robber III"
   ]
  },
  {
   "cell_type": "code",
   "execution_count": 1,
   "metadata": {
    "collapsed": true
   },
   "outputs": [],
   "source": [
    "# Definition for a binary tree node.\n",
    "# class TreeNode:\n",
    "#     def __init__(self, x):\n",
    "#         self.val = x\n",
    "#         self.left = None\n",
    "#         self.right = None\n",
    "\n",
    "class Solution:\n",
    "    def rob(self, root):\n",
    "        \"\"\"\n",
    "        :type root: TreeNode\n",
    "        :rtype: int\n",
    "        \"\"\"\n",
    "        return self.dfs(root)[1]\n",
    "    def dfs(self, root):\n",
    "        val_result=[0, 0]\n",
    "        if not root:\n",
    "            return val_result\n",
    "        left_result = self.dfs(root.left)\n",
    "        right_result = self.dfs(root.right)\n",
    "        val_result[0] = left_result[1]+right_result[1]\n",
    "        val_result[1] = max(root.val+left_result[0]+right_result[0], val_result[0])\n",
    "        return val_result"
   ]
  },
  {
   "cell_type": "markdown",
   "metadata": {},
   "source": [
    "## Spiral Matrix"
   ]
  },
  {
   "cell_type": "code",
   "execution_count": 23,
   "metadata": {
    "collapsed": true
   },
   "outputs": [],
   "source": [
    "class Solution:\n",
    "    def spiralOrder(self, matrix):\n",
    "        \"\"\"\n",
    "        :type matrix: List[List[int]]\n",
    "        :rtype: List[int]\n",
    "        \"\"\"\n",
    "        m = len(matrix)\n",
    "        result = []\n",
    "        if m==0:\n",
    "            return result\n",
    "        n = len(matrix[0])\n",
    "        for cycle_index in range(int((min(m, n)+1)/2)):\n",
    "            last_row = m-cycle_index-1\n",
    "            last_col = n-cycle_index-1\n",
    "            if cycle_index==last_row:\n",
    "                i=cycle_index\n",
    "                while i<=last_col:\n",
    "                    result.append(matrix[last_row][i])\n",
    "                    i+=1\n",
    "            elif cycle_index==last_col:\n",
    "                i=cycle_index\n",
    "                while i<=last_row:\n",
    "                    result.append(matrix[i][last_col])\n",
    "                    i+=1\n",
    "            else:\n",
    "                i=cycle_index\n",
    "                while i<last_col:\n",
    "                    result.append(matrix[cycle_index][i])\n",
    "                    i+=1\n",
    "\n",
    "                i=cycle_index\n",
    "                while i<last_row:\n",
    "                    result.append(matrix[i][last_col])\n",
    "                    i+=1\n",
    "\n",
    "                i=last_col\n",
    "                while i>cycle_index:\n",
    "                    result.append(matrix[last_row][i])\n",
    "                    i-=1\n",
    "\n",
    "                i=last_row\n",
    "                while i>cycle_index:\n",
    "                    result.append(matrix[i][cycle_index])\n",
    "                    i-=1\n",
    "                    \n",
    "        return result\n"
   ]
  },
  {
   "cell_type": "markdown",
   "metadata": {},
   "source": [
    "## Spiral Matrix II"
   ]
  },
  {
   "cell_type": "code",
   "execution_count": 75,
   "metadata": {},
   "outputs": [],
   "source": [
    "class Solution:\n",
    "    def generateMatrix(self, n):\n",
    "        \"\"\"\n",
    "        :type n: int\n",
    "        :rtype: List[List[int]]\n",
    "        \"\"\"\n",
    "        result = []\n",
    "        if n>0:\n",
    "            result = [[0]*n for i in range(n)]\n",
    "            current_num = 1\n",
    "            for cycle_index in range(int(n+1/2)):\n",
    "                last_index = n-cycle_index-1\n",
    "                if cycle_index==last_index:\n",
    "                    result[cycle_index][cycle_index]=current_num\n",
    "                else:\n",
    "                    i=cycle_index\n",
    "                    while i<last_index:\n",
    "                        result[cycle_index][i]=current_num\n",
    "                        i+=1\n",
    "                        current_num+=1\n",
    "                    \n",
    "                    i=cycle_index\n",
    "                    while i<last_index:\n",
    "                        result[i][last_index]=current_num\n",
    "                        i+=1\n",
    "                        current_num+=1\n",
    "                    \n",
    "                    i=last_index\n",
    "                    while i>cycle_index:\n",
    "                        result[last_index][i]=current_num\n",
    "                        i-=1\n",
    "                        current_num+=1\n",
    "                    \n",
    "                    i=last_index\n",
    "                    while i>cycle_index:\n",
    "                        result[i][cycle_index]=current_num\n",
    "                        i-=1\n",
    "                        current_num+=1\n",
    "        \n",
    "        return result"
   ]
  },
  {
   "cell_type": "code",
   "execution_count": 76,
   "metadata": {},
   "outputs": [],
   "source": [
    "def generateMatrix( n):\n",
    "    A, lo = [], n*n+1\n",
    "    while lo > 1:\n",
    "        lo, hi = lo - len(A), lo\n",
    "        A = [list(range(lo, hi))] + list(zip(*A[::-1]))\n",
    "    return A"
   ]
  },
  {
   "cell_type": "markdown",
   "metadata": {},
   "source": [
    "## Product of Array Except Self"
   ]
  },
  {
   "cell_type": "code",
   "execution_count": 78,
   "metadata": {},
   "outputs": [],
   "source": [
    "class Solution:\n",
    "    def productExceptSelf(self, nums):\n",
    "        \"\"\"\n",
    "        :type nums: List[int]\n",
    "        :rtype: List[int]\n",
    "        \"\"\"\n",
    "        def multify(nums, index, forward_result, n):\n",
    "            backward_result=1\n",
    "            if index<n:\n",
    "                backward_result = multify(nums, index+1, forward_result*nums[index], n)\n",
    "                tmp = nums[index]\n",
    "                nums[index]=forward_result*backward_result\n",
    "                backward_result=backward_result*tmp\n",
    "            return backward_result\n",
    "        \n",
    "        multify(nums, 0, 1, len(nums))\n",
    "        return nums"
   ]
  },
  {
   "cell_type": "code",
   "execution_count": 97,
   "metadata": {},
   "outputs": [],
   "source": [
    "class Solution:\n",
    "    def productExceptSelf(self, nums):\n",
    "        \"\"\"\n",
    "        :type nums: List[int]\n",
    "        :rtype: List[int]\n",
    "        \"\"\"\n",
    "        list_len = len(nums)\n",
    "        tmp_array = [1]*list_len\n",
    "        if list_len<=1:\n",
    "            return nums\n",
    "        for index in range(1, list_len):\n",
    "            tmp_array[index]=tmp_array[index-1]*nums[index-1]\n",
    "        index=list_len-2\n",
    "        tmp=1\n",
    "        while index>=0:\n",
    "            tmp=tmp*nums[index+1]\n",
    "            tmp_array[index]=tmp_array[index]*tmp\n",
    "            index-=1\n",
    "        return tmp_array"
   ]
  },
  {
   "cell_type": "markdown",
   "metadata": {},
   "source": [
    "## Jump Game"
   ]
  },
  {
   "cell_type": "code",
   "execution_count": 120,
   "metadata": {},
   "outputs": [],
   "source": [
    "class Solution:\n",
    "    def canJump(self, nums):\n",
    "        \"\"\"\n",
    "        :type nums: List[int]\n",
    "        :rtype: bool\n",
    "        \"\"\"\n",
    "        list_len = len(nums)\n",
    "        max_num=i=0\n",
    "        while i<=max_num and i<list_len:\n",
    "            max_num = max(max_num, i+nums[i])\n",
    "            i+=1\n",
    "            print(i, max_num)\n",
    "        if max_num>=list_len-1:\n",
    "            return True\n",
    "        else:\n",
    "            return False"
   ]
  },
  {
   "cell_type": "code",
   "execution_count": 122,
   "metadata": {},
   "outputs": [],
   "source": [
    "class Solution:\n",
    "    def canJump(self, nums):\n",
    "        \"\"\"\n",
    "        :type nums: List[int]\n",
    "        :rtype: bool\n",
    "        \"\"\"\n",
    "        list_len = len(nums)\n",
    "        pre_high=high=low=step=0\n",
    "        while high<list_len-1:\n",
    "            step+=1\n",
    "            pre_high = high\n",
    "            for index in range(low, pre_high+1):\n",
    "                high = max(high, nums[index]+index)\n",
    "            low = pre_high+1\n",
    "        return step"
   ]
  },
  {
   "cell_type": "markdown",
   "metadata": {},
   "source": [
    "## Median of Two Sorted Arrays"
   ]
  },
  {
   "cell_type": "code",
   "execution_count": 141,
   "metadata": {
    "collapsed": true
   },
   "outputs": [],
   "source": [
    "class Solution:\n",
    "    def findMedianSortedArrays(self, nums1, nums2):\n",
    "        \"\"\"\n",
    "        :type nums1: List[int]\n",
    "        :type nums2: List[int]\n",
    "        :rtype: float\n",
    "        \"\"\"\n",
    "        def getMedian(nums1, m, nums2, n, k):\n",
    "            if m<=0:\n",
    "                return nums2[k-1]\n",
    "            if n<=0:\n",
    "                return nums1[k-1]\n",
    "            if k<=1:\n",
    "                return min(nums1[0], nums2[0])\n",
    "            i, j = int(m/2), int(n/2)\n",
    "            if nums1[i]<=nums2[j]:\n",
    "                if k<=i+j+2:\n",
    "                    return getMedian(nums1, m, nums2, j, k)\n",
    "                else:\n",
    "                    return getMedian(nums1[(i+1):], m-i-1, nums2, n, k-i)\n",
    "            else:\n",
    "                if k<=i+j+2:\n",
    "                    return getMedian(nums1, i, nums2, n, k)\n",
    "                else:\n",
    "                    return getMedian(nums1, m, nums2[(j+1):], n-j-1, k-j)\n",
    "                    "
   ]
  },
  {
   "cell_type": "code",
   "execution_count": 1,
   "metadata": {},
   "outputs": [],
   "source": [
    "## Merge Intervals"
   ]
  },
  {
   "cell_type": "code",
   "execution_count": 23,
   "metadata": {},
   "outputs": [],
   "source": [
    "# Definition for an interval.\n",
    "class Interval:\n",
    "    def __init__(self, s=0, e=0):\n",
    "        self.start = s\n",
    "        self.end = e\n",
    "\n",
    "class Solution:\n",
    "    def merge(self, intervals):\n",
    "        \"\"\"\n",
    "        :type intervals: List[Interval]\n",
    "        :rtype: List[Interval]\n",
    "        \"\"\"\n",
    "        def mergeSort(intervals,start, end):\n",
    "            def sort(intervals, start, middle, end):\n",
    "                i = start\n",
    "                j = middle+1\n",
    "                tmp_result = []\n",
    "                while (i<=middle) and (j<=end):\n",
    "                    if intervals[i].start<=intervals[j].start:\n",
    "                        tmp_result.append(intervals[i])\n",
    "                        i+=1\n",
    "                    else:\n",
    "                        tmp_result.append(intervals[j])\n",
    "                        j+=1\n",
    "                while i<=middle:\n",
    "                    tmp_result.append(intervals[i])\n",
    "                    i+=1\n",
    "                while j<=end:\n",
    "                    tmp_result.append(intervals[j])\n",
    "                    j+=1\n",
    "                return tmp_result\n",
    "            if start>=end:\n",
    "                return\n",
    "            middle = int((start+end)/2)\n",
    "        #     print('start:{}, middle:{}, end:{}, nums:{}'.format(start, middle, end, nums))\n",
    "            mergeSort(intervals, start, middle)\n",
    "            mergeSort(intervals, middle+1, end)\n",
    "            tmp_result = sort(intervals, start, middle, end)\n",
    "            intervals[start:end+1] = tmp_result\n",
    "        def mergeOverLap(intervals):\n",
    "            index = 1\n",
    "            result_index = 0\n",
    "            result = [intervals[0]]\n",
    "            while index<len(intervals):\n",
    "                if result[result_index].end>=intervals[index].start:\n",
    "                    result[result_index].end = max(intervals[result_index].end, intervals[index].end)\n",
    "                    for interval in result:\n",
    "                    tmp_str+= str(interval.start)+','+str(interval.end)+'  '\n",
    "                    print(tmp_str)\n",
    "                else:\n",
    "                    result.append(intervals[index])\n",
    "                    result_index+=1\n",
    "                index+=1\n",
    "                tmp_str = ''\n",
    "                \n",
    "            return result\n",
    "        if len(intervals)==0:\n",
    "            return []\n",
    "        mergeSort(intervals, 0, len(intervals)-1)\n",
    "        return mergeOverLap(intervals)"
   ]
  },
  {
   "cell_type": "code",
   "execution_count": 66,
   "metadata": {},
   "outputs": [],
   "source": [
    "def quickSort(intervals, start_index, end_index):\n",
    "        def swap(intervals, i, j):\n",
    "            tmp = intervals[i]\n",
    "            intervals[i]=intervals[j]\n",
    "            intervals[j] = tmp\n",
    "        if end_index<=start_index:\n",
    "            return\n",
    "        i=start_index\n",
    "        j=end_index-1\n",
    "        label = intervals[end_index].start\n",
    "        while i<j:\n",
    "            while (i<=j) & (intervals[i].start<=label):\n",
    "                i+=1\n",
    "            while (j>i) & (intervals[j].start>label):\n",
    "                j-=1\n",
    "            if i<j:\n",
    "                swap(intervals, i, j)\n",
    "            print('i: ', i, ' j: ', j)\n",
    "        swap(intervals, i, end_index)\n",
    "        for interval in intervals:\n",
    "            print(interval.start, interval.end)\n",
    "        print('i: ', i, ' j: ', j, ' endIndex: ', end_index)\n",
    "        quickSort(intervals, start_index, i-1)\n",
    "        quickSort(intervals, i+1, end_index)\n",
    "        return intervals"
   ]
  },
  {
   "cell_type": "code",
   "execution_count": 49,
   "metadata": {},
   "outputs": [],
   "source": [
    "def mergeSort(intervals,start, end):\n",
    "    def sort(intervals, start, middle, end):\n",
    "        i = start\n",
    "        j = middle+1\n",
    "        tmp_result = []\n",
    "        while (i<=middle) and (j<=end):\n",
    "            if intervals[i].start<=intervals[j].start:\n",
    "                tmp_result.append(intervals[i])\n",
    "                i+=1\n",
    "            else:\n",
    "                tmp_result.append(intervals[j])\n",
    "                j+=1\n",
    "        while i<=middle:\n",
    "            tmp_result.append(intervals[i])\n",
    "            i+=1\n",
    "        while j<=end:\n",
    "            tmp_result.append(intervals[j])\n",
    "            j+=1\n",
    "        return tmp_result\n",
    "    if start>=end:\n",
    "        return\n",
    "    middle = int((start+end)/2)\n",
    "#     print('start:{}, middle:{}, end:{}, nums:{}'.format(start, middle, end, nums))\n",
    "    mergeSort(intervals, start, middle)\n",
    "    mergeSort(intervals, middle+1, end)\n",
    "    tmp_result = sort(intervals, start, middle, end)\n",
    "    intervals[start:end+1] = tmp_result"
   ]
  },
  {
   "cell_type": "markdown",
   "metadata": {},
   "source": [
    "## Summary Range"
   ]
  },
  {
   "cell_type": "code",
   "execution_count": null,
   "metadata": {},
   "outputs": [],
   "source": [
    "class Solution:\n",
    "    def summaryRanges(self, nums):\n",
    "        \"\"\"\n",
    "        :type nums: List[int]\n",
    "        :rtype: List[str]\n",
    "        \"\"\"\n",
    "        if nums is None or len(nums)==0:\n",
    "            return []\n",
    "        i=0\n",
    "        result = []\n",
    "        while i<len(nums):\n",
    "            tmp_str = str(nums[i])\n",
    "            j=i+1\n",
    "            while j<len(nums):\n",
    "                if nums[j]==nums[j-1]+1:\n",
    "                    j+=1\n",
    "                else:\n",
    "                    break\n",
    "            if (j-i)!=1:\n",
    "                tmp_str+='->'+str(nums[j-1])\n",
    "            result.append(tmp_str)\n",
    "            i=j\n",
    "        return result"
   ]
  },
  {
   "cell_type": "markdown",
   "metadata": {},
   "source": [
    "## Plus One"
   ]
  },
  {
   "cell_type": "code",
   "execution_count": 48,
   "metadata": {},
   "outputs": [
    {
     "data": {
      "text/plain": [
       "['0', '2->4', '6', '8->9']"
      ]
     },
     "execution_count": 48,
     "metadata": {},
     "output_type": "execute_result"
    }
   ],
   "source": [
    "class Solution:\n",
    "    def plusOne(self, digits):\n",
    "        \"\"\"\n",
    "        :type digits: List[int]\n",
    "        :rtype: List[int]\n",
    "        \"\"\"\n",
    "        i = len(digits)-1\n",
    "        while i>=0:\n",
    "            if digits[i]==9:\n",
    "                digits[i]=0\n",
    "            else:\n",
    "                digits[i]+=1\n",
    "                return digits\n",
    "            i-=1\n",
    "        return [1]+digits"
   ]
  },
  {
   "cell_type": "markdown",
   "metadata": {},
   "source": [
    "## Count Primes"
   ]
  },
  {
   "cell_type": "code",
   "execution_count": 3,
   "metadata": {},
   "outputs": [],
   "source": [
    "class Solution:\n",
    "    def countPrimes(self, n):\n",
    "        \"\"\"\n",
    "        :type n: int\n",
    "        :rtype: int\n",
    "        \"\"\"\n",
    "        if n<3:\n",
    "            return 0\n",
    "        else:\n",
    "            state = [True]*n\n",
    "            for i in range(n**0.5+1):\n",
    "                if state[i]:\n",
    "                    state[i*i:n:i]=[False]*len(state[i*i:n:i])\n",
    "        return sum(state)"
   ]
  },
  {
   "cell_type": "markdown",
   "metadata": {
    "scrolled": true
   },
   "source": [
    "## Two Sum"
   ]
  },
  {
   "cell_type": "code",
   "execution_count": 15,
   "metadata": {},
   "outputs": [],
   "source": [
    "class Solution:\n",
    "    def twoSum(self, nums, target):\n",
    "        \"\"\"\n",
    "        :type nums: List[int]\n",
    "        :type target: int\n",
    "        :rtype: List[int]\n",
    "        \"\"\"\n",
    "        list_len = len(nums)\n",
    "        location_list = [[nums[i], i] for i in range(list_len)]\n",
    "        location_list = sorted(location_list, key=lambda x:x[0])\n",
    "        nums = sorted(nums)\n",
    "        head = 0\n",
    "        tail = list_len-1\n",
    "        while head<tail:\n",
    "            if nums[head]+nums[tail] == target:\n",
    "                return [location_list[head][1], location_list[tail][1]]\n",
    "            elif nums[head]+nums[tail] < target:\n",
    "                head += 1\n",
    "            elif nums[head]+nums[tail] > target:\n",
    "                tail -= 1\n",
    "        return []"
   ]
  },
  {
   "cell_type": "code",
   "execution_count": null,
   "metadata": {},
   "outputs": [],
   "source": [
    "class Solution:\n",
    "    def threeSumClosest(self, nums, target):\n",
    "        \"\"\"\n",
    "        :type nums: List[int]\n",
    "        :type target: int\n",
    "        :rtype: int\n",
    "        \"\"\"\n",
    "        nums.sort()\n",
    "        import sys\n",
    "        min_num = sys.maxsize\n",
    "        result = None\n",
    "        for i in range(len(nums)-2):\n",
    "            left = i+1\n",
    "            right = len(nums)-1\n",
    "            tmp_2Sum_target = target - nums[i]\n",
    "            while left<right:\n",
    "                tmp_3Sum = nums[left] + nums[right] -tmp_2Sum_target\n",
    "                if abs(tmp_3Sum)<min_num:\n",
    "                    print([nums[i], nums[left], nums[right]])\n",
    "                    result = tmp_3Sum\n",
    "                if tmp_3Sum<0:\n",
    "                    left += 1\n",
    "                elif tmp_3Sum>0:\n",
    "                    right -= 1\n",
    "                else:\n",
    "                    return result\n",
    "        return result\n",
    "        "
   ]
  },
  {
   "cell_type": "markdown",
   "metadata": {},
   "source": [
    "## Move Zeroes"
   ]
  },
  {
   "cell_type": "code",
   "execution_count": null,
   "metadata": {},
   "outputs": [],
   "source": [
    "class Solution:\n",
    "    def moveZeroes(self, nums):\n",
    "        \"\"\"\n",
    "        :type nums: List[int]\n",
    "        :rtype: void Do not return anything, modify nums in-place instead.\n",
    "        \"\"\"\n",
    "        list_len = len(nums)\n",
    "        if list_len<2:\n",
    "            return nums\n",
    "        i = 0\n",
    "        j = 1\n",
    "        while i<list_len and j <list_len:\n",
    "            if nums[i]!=0:\n",
    "                i += 1\n",
    "            if nums[j]==0:\n",
    "                j += 1\n",
    "            if nums[i]==0 and nums[j]!=0:\n",
    "                tmp = nums[i]\n",
    "                nums[i] = nums[j]"
   ]
  },
  {
   "cell_type": "markdown",
   "metadata": {},
   "source": [
    "## K-diff Pairs in an Array"
   ]
  },
  {
   "cell_type": "code",
   "execution_count": null,
   "metadata": {},
   "outputs": [],
   "source": [
    "class Solution:\n",
    "    def findPairs(self, nums, k):\n",
    "        \"\"\"\n",
    "        :type nums: List[int]\n",
    "        :type k: int\n",
    "        :rtype: int\n",
    "        \"\"\"\n",
    "        tmp_dic = {}\n",
    "        res = 0\n",
    "        for i in nums:\n",
    "            if i not in tmp_dic:\n",
    "                tmp_dic[i] = 1\n",
    "            else:\n",
    "                tmp_dic[i] += 1\n",
    "                \n",
    "        for key, count in tmp_dic.items():\n",
    "            if k!=0 and k+key in tmp_dic:\n",
    "                res += 1\n",
    "            elif k==0 and count>1:\n",
    "                res +=1\n",
    "        return res"
   ]
  },
  {
   "cell_type": "markdown",
   "metadata": {},
   "source": [
    "## Subarray Product Less Than K"
   ]
  },
  {
   "cell_type": "code",
   "execution_count": 22,
   "metadata": {},
   "outputs": [],
   "source": [
    "class Solution:\n",
    "    def numSubarrayProductLessThanK(self, nums, k):\n",
    "        \"\"\"\n",
    "        :type nums: List[int]\n",
    "        :type k: int\n",
    "        :rtype: int\n",
    "        \"\"\"\n",
    "        if k<=1:\n",
    "            return 0\n",
    "        \n",
    "        _len = len(nums)\n",
    "        res = 0\n",
    "        left = 0 \n",
    "        prod = 1\n",
    "        \n",
    "        for i in range(_len):\n",
    "            prod *= nums[i]\n",
    "            while prod>=k:\n",
    "                prod /= nums[left]\n",
    "                left += 1\n",
    "            res += i-left+1\n",
    "        \n",
    "        return res"
   ]
  },
  {
   "cell_type": "markdown",
   "metadata": {},
   "source": [
    "## Partition Equal Subset Sum "
   ]
  },
  {
   "cell_type": "code",
   "execution_count": 70,
   "metadata": {},
   "outputs": [],
   "source": [
    "class Solution:\n",
    "    def canPartitionKSubsets(self, nums, k):\n",
    "        \"\"\"\n",
    "        :type nums: List[int]\n",
    "        :type k: int\n",
    "        :rtype: bool\n",
    "        \"\"\"\n",
    "        def dfs(nums, index, target, k):\n",
    "            if index>=len(nums):\n",
    "                return True \n",
    "            for i in range(k):\n",
    "                if target[i] >= nums[index]:\n",
    "                    target[i] -= nums[index]\n",
    "                    if dfs(nums, index+1, target, k):\n",
    "                        return True\n",
    "                    target[i] += nums[index]\n",
    "            return False\n",
    "        \n",
    "        sum_all = sum(nums)\n",
    "        max_num = max(nums)\n",
    "        nums.sort(reverse=True)\n",
    "        if not (sum_all/k).is_integer() or max_num>sum_all/k:\n",
    "            return False\n",
    "        target = [sum_all/k for i in range(k)]\n",
    "        print(target)\n",
    "        return dfs(nums, 0, target, k)"
   ]
  },
  {
   "cell_type": "code",
   "execution_count": 72,
   "metadata": {},
   "outputs": [],
   "source": [
    "class Solution:\n",
    "    def canPartitionKSubsets(self, nums, k):\n",
    "        \"\"\"\n",
    "        :type nums: List[int]\n",
    "        :rtype: bool\n",
    "        \"\"\"\n",
    "        if not nums or len(nums) < k: return False\n",
    "        _sum = sum(nums)\n",
    "        div, mod = divmod(_sum, k)\n",
    "        if mod != 0 or max(nums) > _sum / k: \n",
    "            print('here')\n",
    "            return False\n",
    "        nums.sort(reverse = True)\n",
    "        target = [div] * k\n",
    "        return self.dfs(nums, 0, target, k)\n",
    "\n",
    "    def dfs(self, nums, index, target, k):\n",
    "        if index == len(nums): return True\n",
    "        num = nums[index]\n",
    "        for i in range(k):\n",
    "            if target[i] >= num:\n",
    "                target[i] -= num\n",
    "                if self.dfs(nums, index + 1, target, k): return True\n",
    "                target[i] += num\n",
    "        return False"
   ]
  },
  {
   "cell_type": "markdown",
   "metadata": {},
   "source": [
    "## Valid Tic-Tac-Toe State"
   ]
  },
  {
   "cell_type": "code",
   "execution_count": 83,
   "metadata": {},
   "outputs": [],
   "source": [
    "class Solution:\n",
    "    def validTicTacToe(self, board):\n",
    "        \"\"\"\n",
    "        :type board: List[str]\n",
    "        :rtype: bool\n",
    "        \"\"\"\n",
    "        _len = len(board)\n",
    "        count_x = count_o = 0\n",
    "        for i in range(_len):\n",
    "            for j in range(_len):\n",
    "                if board[i][j] == 'X':\n",
    "                    count_x += 1\n",
    "                elif board[i][j] == 'O':\n",
    "                    count_o += 1\n",
    "        if count_x<count_o or count_x-count_o>1:\n",
    "            return False\n",
    "        if count_x>count_o and not self.notWin(board, 'O'):\n",
    "            return False\n",
    "        if count_x==count_o and not self.notWin(board, 'X'):\n",
    "            return False\n",
    "        return True\n",
    "    \n",
    "    def notWin(self, board, string):\n",
    "        _len = len(board)\n",
    "        for i in range(_len):\n",
    "            if (board[i][0]==string and board[i][0]==board[i][1] and board[i][1]==board[i][2]) or (board[0][i]==string and board[0][i]==board[1][i] and board[1][i]==board[2][i]):\n",
    "                return False\n",
    "        if (board[0][0]==string and board[0][0]==board[1][1] and board[1][1]==board[2][2]) or (board[0][2]==string and board[0][2]==board[1][1] and board[1][1]==board[2][0]):\n",
    "            return False\n",
    "        return True"
   ]
  },
  {
   "cell_type": "markdown",
   "metadata": {},
   "source": [
    "## Divide Two Integers"
   ]
  },
  {
   "cell_type": "code",
   "execution_count": 147,
   "metadata": {},
   "outputs": [],
   "source": [
    "class Solution:\n",
    "    def divide(self, dividend, divisor):\n",
    "        \"\"\"\n",
    "        :type dividend: int\n",
    "        :type divisor: int\n",
    "        :rtype: int\n",
    "        \"\"\"\n",
    "        is_negative = (dividend<0) ^ (divisor<0)\n",
    "        dividend = abs(dividend)\n",
    "        divisor = abs(divisor)\n",
    "        \n",
    "        inc = []\n",
    "        tmp = divisor\n",
    "        \n",
    "        while tmp<=dividend:\n",
    "            inc.append(tmp)\n",
    "            tmp = tmp<<1\n",
    "        i = len(inc)-1\n",
    "        count = 0\n",
    "        dvd = dividend\n",
    "        while i>=0:\n",
    "            if dvd>=inc[i]:\n",
    "                dvd = dvd - inc[i]\n",
    "                count += int(inc[i]/divisor)\n",
    "            if count>=(1<<31):\n",
    "                if is_negative: \n",
    "                    return -(1<<31)\n",
    "                else:\n",
    "                    return (1<<31)-1\n",
    "            i -= 1\n",
    "        count = -count if is_negative else count\n",
    "        return count"
   ]
  },
  {
   "cell_type": "markdown",
   "metadata": {},
   "source": [
    "## Compute Sqrt"
   ]
  },
  {
   "cell_type": "code",
   "execution_count": 1,
   "metadata": {},
   "outputs": [],
   "source": [
    "class Solution:\n",
    "    def mySqrt(self, x):\n",
    "        \"\"\"\n",
    "        :type x: int\n",
    "        :rtype: int\n",
    "        \"\"\"\n",
    "        def get_num(start, end, target):\n",
    "            print(start, end)\n",
    "            if end <= start:\n",
    "                return end\n",
    "            middle = int((start+end)/2)\n",
    "            if middle*middle > target:\n",
    "                return get_num(start, middle-1, target)\n",
    "            else:\n",
    "                if (middle+1)*(middle+1) <= target:\n",
    "                    return get_num(middle+1, end, target)\n",
    "                else:\n",
    "                    return middle\n",
    "        return get_num(0, int(x/2+1), x)\n",
    "        "
   ]
  },
  {
   "cell_type": "markdown",
   "metadata": {},
   "source": [
    "## First Bad Version "
   ]
  },
  {
   "cell_type": "code",
   "execution_count": 3,
   "metadata": {},
   "outputs": [],
   "source": [
    "class Solution:\n",
    "    def firstBadVersion(self, n):\n",
    "        \"\"\"\n",
    "        :type n: int\n",
    "        :rtype: int\n",
    "        \"\"\"\n",
    "        def get_first_bad_version(start, end):\n",
    "            if start>end:\n",
    "                return None\n",
    "            \n",
    "            middle = int(((start+end)/2))\n",
    "            is_middle_bad = isBadVersion(middle)\n",
    "            if not is_middle_bad:\n",
    "                return get_first_bad_version(middle+1, end)\n",
    "            else:\n",
    "                if middle>0 and isBadVersion(middle-1):\n",
    "                    return get_first_bad_version(start, middle-1)\n",
    "                else:\n",
    "                    return middle\n",
    "        return get_first_bad_version(0, n)"
   ]
  },
  {
   "cell_type": "markdown",
   "metadata": {},
   "source": [
    "## Count and Say"
   ]
  },
  {
   "cell_type": "code",
   "execution_count": 1,
   "metadata": {},
   "outputs": [],
   "source": [
    "class Solution:\n",
    "    def countAndSay(self, n):\n",
    "        \"\"\"\n",
    "        :type n: int\n",
    "        :rtype: str\n",
    "        \"\"\"\n",
    "        if n <= 0:\n",
    "            return ''\n",
    "        \n",
    "        result = '1'\n",
    "        \n",
    "        def count(result):\n",
    "            if len(result)==1:\n",
    "                return '1'+result\n",
    "            tmp_res = ''\n",
    "            count = 1\n",
    "            for i in range(1, len(result)):\n",
    "                if result[i]!=result[i-1] or i==len(result)-1:\n",
    "                    tmp_res = tmp_res + str(count) + result[i-1]\n",
    "                    count = 1\n",
    "                    print('tmp_res: ', tmp_res)\n",
    "                else:\n",
    "                    count += 1\n",
    "            return tmp_res\n",
    "        \n",
    "        for i in range(2, n+1):\n",
    "            result = count(result)\n",
    "            print(result)\n",
    "        \n",
    "        return result"
   ]
  },
  {
   "cell_type": "markdown",
   "metadata": {},
   "source": [
    "## Elimination Game"
   ]
  },
  {
   "cell_type": "code",
   "execution_count": 1,
   "metadata": {},
   "outputs": [],
   "source": [
    "import math\n",
    "class Solution:\n",
    "    def lastRemaining(self, n):\n",
    "        \"\"\"\n",
    "        :type n: int\n",
    "        :rtype: int\n",
    "        \"\"\"\n",
    "        return self.help(n, True)\n",
    "        \n",
    "    def help(self, n, left_to_right = True):\n",
    "        if n == 1:\n",
    "            return 1\n",
    "        if left_to_right:\n",
    "            return 2 * self.help(math.floor(n/2), False)\n",
    "        else:\n",
    "            return 2 * self.help(math.floor(n/2), True) - 1 + n%2"
   ]
  },
  {
   "cell_type": "markdown",
   "metadata": {},
   "source": [
    "## Flood Fill"
   ]
  },
  {
   "cell_type": "code",
   "execution_count": 4,
   "metadata": {},
   "outputs": [
    {
     "name": "stdout",
     "output_type": "stream",
     "text": [
      "[[2, 2, 2], [2, 2, 0], [2, 0, 1]]\n"
     ]
    }
   ],
   "source": [
    "class Solution(object):\n",
    "    def floodFill(self, image, sr, sc, newColor):\n",
    "        \"\"\"\n",
    "        :type image: List[List[int]]\n",
    "        :type sr: int\n",
    "        :type sc: int\n",
    "        :type newColor: int\n",
    "        :rtype: List[List[int]]\n",
    "        \"\"\"\n",
    "\n",
    "        def dfs(image, current_i, current_j, image_width, image_height, origin_value, new_value, state_array):\n",
    "            if current_i >= 0 and current_i < image_width and current_j >= 0 and current_j < image_height and state_array[current_i][current_j]==1:\n",
    "                state_array[current_i][current_j] = 0\n",
    "                if image[current_i][current_j] == origin_value:\n",
    "                    image[current_i][current_j] = new_value\n",
    "                    dfs(image, current_i - 1, current_j, image_width, image_height, origin_value, new_value, state_array)\n",
    "                    dfs(image, current_i, current_j - 1, image_width, image_height, origin_value, new_value, state_array)\n",
    "                    dfs(image, current_i + 1, current_j, image_width, image_height, origin_value, new_value, state_array)\n",
    "                    dfs(image, current_i, current_j + 1, image_width, image_height, origin_value, new_value, state_array)\n",
    "            return\n",
    "\n",
    "        height = len(image)\n",
    "\n",
    "        if height == 0:\n",
    "            return image\n",
    "        width = len(image[0])\n",
    "        state_array = [[1 for i in range(width)] for j in range(height)]\n",
    "        dfs(image, sr, sc, width, height, image[sr][sc], newColor, state_array)\n",
    "        return image\n",
    "\n",
    "solution = Solution()\n",
    "test_image = [[1,1,1],[1,1,0],[1,0,1]]\n",
    "solution.floodFill(test_image, 1, 1, 2)\n",
    "print(test_image)"
   ]
  },
  {
   "cell_type": "code",
   "execution_count": null,
   "metadata": {},
   "outputs": [],
   "source": []
  },
  {
   "cell_type": "code",
   "execution_count": null,
   "metadata": {},
   "outputs": [],
   "source": []
  }
 ],
 "metadata": {
  "kernelspec": {
   "display_name": "Python 3",
   "language": "python",
   "name": "python3"
  },
  "language_info": {
   "codemirror_mode": {
    "name": "ipython",
    "version": 3
   },
   "file_extension": ".py",
   "mimetype": "text/x-python",
   "name": "python",
   "nbconvert_exporter": "python",
   "pygments_lexer": "ipython3",
   "version": "3.6.5"
  }
 },
 "nbformat": 4,
 "nbformat_minor": 2
}
