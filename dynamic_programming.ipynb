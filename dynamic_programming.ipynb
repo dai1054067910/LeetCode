{
 "cells": [
  {
   "cell_type": "markdown",
   "metadata": {},
   "source": [
    "## 换钱的最少币数"
   ]
  },
  {
   "cell_type": "code",
   "execution_count": 14,
   "metadata": {},
   "outputs": [],
   "source": [
    "import sys\n",
    "def get_least_coin(nums, target):\n",
    "    states = [0 for x in range(target+1)]\n",
    "    for x in range(1, target+1):\n",
    "        min_num = sys.maxsize\n",
    "        for coin in nums:\n",
    "            pre_num = x-coin\n",
    "            if pre_num>=0:\n",
    "                 min_num = min(states[pre_num]+1, min_num)\n",
    "        states[x] = min_num\n",
    "    return states"
   ]
  },
  {
   "cell_type": "code",
   "execution_count": 51,
   "metadata": {},
   "outputs": [],
   "source": [
    "test_array = []\n",
    "def iterate_test():\n",
    "    for i in range(10):\n",
    "        yield i\n",
    "        print(i)\n"
   ]
  },
  {
   "cell_type": "markdown",
   "metadata": {},
   "source": [
    "## 最长递增序列"
   ]
  },
  {
   "cell_type": "code",
   "execution_count": 124,
   "metadata": {},
   "outputs": [],
   "source": [
    "def getLTS(nums):\n",
    "    def binary_search(ends, num):\n",
    "        left, right = 0, len(ends)-1\n",
    "        while left<right:\n",
    "            middle = int((left+right)/2)\n",
    "            if num<ends[middle]:\n",
    "                right = middle - 1\n",
    "            elif num>ends[middle]:\n",
    "                left = middle + 1\n",
    "            else:\n",
    "                return middle\n",
    "        return left\n",
    "    def generate_dp(nums):\n",
    "        ends = [nums[0]]\n",
    "        dp = []\n",
    "        for i in range(len(nums)):\n",
    "            index = binary_search(ends, nums[i])\n",
    "            if index+1>len(ends):\n",
    "                ends.append(nums[i])\n",
    "            elif index==0 and nums[i]<ends[0]:\n",
    "                ends[0]==nums[i]\n",
    "            else:\n",
    "                ends[index+1] = nums[i]\n",
    "            dp[i].append(index+1)\n",
    "        return dp"
   ]
  },
  {
   "cell_type": "code",
   "execution_count": 126,
   "metadata": {},
   "outputs": [],
   "source": [
    "def binary_search(ends, num):\n",
    "    left, right = 0, len(ends)-1\n",
    "    while left<=right:\n",
    "        middle = int((left+right)/2)\n",
    "        if num<ends[middle]:\n",
    "            right = middle - 1\n",
    "        else:\n",
    "            left = middle + 1\n",
    "    return left\n",
    "def generate_dp(nums):\n",
    "    ends = [nums[0]]\n",
    "    dp = [1]\n",
    "    for i in range(1, len(nums)):\n",
    "        index = binary_search(ends, nums[i])\n",
    "        if index==len(ends):\n",
    "            ends.append(nums[i])\n",
    "        else:\n",
    "            ends[index] = nums[i]\n",
    "        dp.append(index+1)\n",
    "        print('index: ', index, \" ends: \", ends, \" dp: \", dp)\n",
    "    return dp\n"
   ]
  },
  {
   "cell_type": "markdown",
   "metadata": {},
   "source": [
    "## 汉诺塔"
   ]
  },
  {
   "cell_type": "code",
   "execution_count": 129,
   "metadata": {},
   "outputs": [
    {
     "name": "stdout",
     "output_type": "stream",
     "text": [
      "move from start to end\n",
      "move from start to mid\n",
      "move from end to mid\n",
      "move from start to end\n",
      "move from mid to start\n",
      "move from mid to end\n",
      "move from start to end\n"
     ]
    }
   ],
   "source": [
    "def move(n, start, mid, end):\n",
    "    if n==1:\n",
    "        print(\"move from {} to {}\".format(start, end))\n",
    "    else:\n",
    "        move(n-1, start, end, mid)\n",
    "        move(1, start, mid, end)\n",
    "        move(n-1, mid, start, end)\n",
    "move(3, 'start', 'mid', 'end')"
   ]
  },
  {
   "cell_type": "markdown",
   "metadata": {},
   "source": [
    "## 最长公共子序列"
   ]
  },
  {
   "cell_type": "code",
   "execution_count": 35,
   "metadata": {},
   "outputs": [],
   "source": [
    "def get_longest_dp(str1, str2):\n",
    "    m, n = len(str1), len(str2)\n",
    "    dp = [[0 for j in range(n)] for i in range(m)]\n",
    "    dp[0][0] = 1 if str1[0]==str2[0] else 0\n",
    "    for i in range(1, m):\n",
    "        dp[i][0]=max(dp[i-1][0], 1 if str1[i]==str2[0] else 0)\n",
    "    for j in range(1, n):\n",
    "        dp[0][j]=max(dp[0][j-1], 1 if str2[j]==str1[0] else 0)\n",
    "    for i in range(1, m):\n",
    "        for j in range(1, n):\n",
    "            dp[i][j]=max(dp[i-1][j], dp[i][j-1])\n",
    "            if str1[i]==str2[j]:\n",
    "                dp[i][j]=max(dp[i][j], dp[i-1][j-1]+1)\n",
    "    return dp\n",
    "\n",
    "def get_longest_str(str1, str2, dp):\n",
    "    i=len(str1)-1\n",
    "    j=len(str2)-1\n",
    "    m=dp[i][j]\n",
    "    result_str = ''\n",
    "    while m>0:\n",
    "        if i>0 and (dp[i-1][j]==dp[i][j]):\n",
    "            i-=1\n",
    "        elif j>0 and (dp[i][j-1]==dp[i][j]):\n",
    "            j-=1\n",
    "        else:\n",
    "            result_str=str1[i]+result_str\n",
    "            i-=1\n",
    "            j-=1\n",
    "            m-=1\n",
    "    return result_str\n",
    "            "
   ]
  },
  {
   "cell_type": "markdown",
   "metadata": {},
   "source": [
    "## 最长公共子串"
   ]
  },
  {
   "cell_type": "code",
   "execution_count": 42,
   "metadata": {},
   "outputs": [],
   "source": [
    "def get_longest_common_str(str1, str2):\n",
    "    m, n = len(str1), len(str2)\n",
    "    dp = [[0 for j in range(n)] for i in range(m)]\n",
    "    for i in range(m):\n",
    "        if str1[i]==str2[0]:\n",
    "            dp[i][0]=1\n",
    "    for j in range(n):\n",
    "        if str1[0]==str2[j]:\n",
    "            dp[0][j]=1\n",
    "    for i in range(1, m):\n",
    "        for j in range(1, n):\n",
    "            if str1[i]==str2[j]:\n",
    "                dp[i][j]=dp[i-1][j-1]+1\n",
    "    return dp"
   ]
  },
  {
   "cell_type": "code",
   "execution_count": 43,
   "metadata": {},
   "outputs": [
    {
     "data": {
      "text/plain": [
       "[[0, 0, 0, 0, 0],\n",
       " [1, 0, 1, 0, 0],\n",
       " [0, 0, 0, 2, 0],\n",
       " [0, 0, 0, 0, 3],\n",
       " [0, 1, 0, 0, 0]]"
      ]
     },
     "execution_count": 43,
     "metadata": {},
     "output_type": "execute_result"
    }
   ],
   "source": [
    "get_longest_common_str('abcde', 'bebcd')"
   ]
  },
  {
   "cell_type": "markdown",
   "metadata": {},
   "source": [
    "## 最小编辑代价"
   ]
  },
  {
   "cell_type": "code",
   "execution_count": 55,
   "metadata": {},
   "outputs": [],
   "source": [
    "def change_cost(str1, str2, costs):\n",
    "    m = len(str1)\n",
    "    n = len(str2)\n",
    "    dp = [[0 for j in range(n+1)] for i in range(m+1)]\n",
    "    for j in range(n+1):\n",
    "        dp[0][j]=j*costs[0]\n",
    "    for i in range(m+1):\n",
    "        dp[i][0]=i*costs[1]\n",
    "    for i in range(1, m+1):\n",
    "        for j in range(1, n+1):\n",
    "            if str1[i-1]==str2[j-1]:\n",
    "                dp[i][j]=dp[i-1][j-1]\n",
    "            else:\n",
    "                dp[i][j]=dp[i-1][j-1]+costs[2]\n",
    "            dp[i][j] = min(dp[i-1][j]+costs[1], dp[i][j-1]+costs[0], dp[i][j])\n",
    "            \n",
    "    return dp"
   ]
  },
  {
   "cell_type": "code",
   "execution_count": 56,
   "metadata": {},
   "outputs": [
    {
     "data": {
      "text/plain": [
       "[[0, 5, 10, 15, 20, 25],\n",
       " [3, 0, 5, 10, 15, 20],\n",
       " [6, 3, 0, 5, 10, 15],\n",
       " [9, 6, 3, 2, 7, 12],\n",
       " [12, 9, 6, 5, 4, 9],\n",
       " [15, 12, 9, 6, 7, 6],\n",
       " [18, 15, 12, 9, 6, 9],\n",
       " [21, 18, 15, 12, 9, 8]]"
      ]
     },
     "execution_count": 56,
     "metadata": {},
     "output_type": "execute_result"
    }
   ],
   "source": [
    "str1 = 'ab12cd3'\n",
    "str2 = 'abcdf'\n",
    "costs = [5, 3, 2]\n",
    "change_cost(str1, str2, costs)"
   ]
  },
  {
   "cell_type": "markdown",
   "metadata": {},
   "source": [
    "## 字符串的交错组成 "
   ]
  },
  {
   "cell_type": "code",
   "execution_count": 59,
   "metadata": {},
   "outputs": [],
   "source": [
    "def is_cross(str1, str2, target):\n",
    "    if str1 is None or (str2 is None) or (target is None):\n",
    "        return False\n",
    "    m = len(str1)\n",
    "    n = len(str2)\n",
    "    dp = [[False for j in range(n+1)] for i in range(m+1)]\n",
    "    dp[0][0] = True\n",
    "    for i in range(1, m+1):\n",
    "        if str1[i-1]!=target[i-1]:\n",
    "            break\n",
    "        dp[i][0] = True\n",
    "    \n",
    "    for j in range(1, n+1):\n",
    "        if str2[j-1]!=target[j-1]:\n",
    "            break\n",
    "        dp[0][j]=True\n",
    "    \n",
    "    for i in range(1, m+1):\n",
    "        for j in range(1, n+1):\n",
    "            if str1[i-1]==target[i+j-1] and dp[i-1][j]:\n",
    "                dp[i][j] = True\n",
    "            elif str2[j-1]==target[i+j-1] and dp[i][j-1]:\n",
    "                dp[i][j] = True\n",
    "    return dp\n",
    "        "
   ]
  },
  {
   "cell_type": "code",
   "execution_count": 61,
   "metadata": {},
   "outputs": [
    {
     "data": {
      "text/plain": [
       "[[True, False, False], [True, False, False], [True, True, True]]"
      ]
     },
     "execution_count": 61,
     "metadata": {},
     "output_type": "execute_result"
    }
   ],
   "source": [
    "str1 = 'AB'\n",
    "str2 = '12'\n",
    "target = 'AB12'\n",
    "is_cross(str1, str2, target)\n"
   ]
  },
  {
   "cell_type": "markdown",
   "metadata": {},
   "source": [
    "## 骑士问题"
   ]
  },
  {
   "cell_type": "code",
   "execution_count": 82,
   "metadata": {},
   "outputs": [],
   "source": [
    "def get_least(number_map):\n",
    "    m, n = len(number_map), len(number_map[0])\n",
    "    dp = [[0 for j in range(n)] for i in range(m)]\n",
    "    dp[m-1][n-1] = max(1, 1-number_map[m-1][n-1])\n",
    "    \n",
    "    i, j = m-2, n-2\n",
    "    while i>=0:\n",
    "        dp[i][n-1] = max(1, dp[i+1][n-1]-number_map[i][n-1])\n",
    "        i-=1\n",
    "\n",
    "    while j>=0:\n",
    "        dp[m-1][j] = max(1, dp[m-1][j+1]-number_map[m-1][j])\n",
    "\n",
    "        j-=1\n",
    "    \n",
    "    i=m-2\n",
    "    while i>=0:\n",
    "        j=n-2\n",
    "        while j>=0:\n",
    "            right = max(1, dp[i][j+1]-number_map[i][j])\n",
    "            down = max(1, dp[i+1][j]-number_map[i][j])\n",
    "            dp[i][j] = min(right, down)\n",
    "#             print('{}{}: {}'.format(i, j, dp[i][j]))\n",
    "            j-=1\n",
    "        i-=1\n",
    "        \n",
    "    return dp"
   ]
  },
  {
   "cell_type": "code",
   "execution_count": 83,
   "metadata": {},
   "outputs": [
    {
     "data": {
      "text/plain": [
       "[[7, 5, 2], [6, 11, 5], [1, 1, 6]]"
      ]
     },
     "execution_count": 83,
     "metadata": {},
     "output_type": "execute_result"
    }
   ],
   "source": [
    "number_map=[[-2, -3, 3],[-5, -10, 1],[0, 30, -5]]\n",
    "get_least(number_map)"
   ]
  },
  {
   "cell_type": "markdown",
   "metadata": {},
   "source": [
    "## 表达式得到期望结果的种数"
   ]
  },
  {
   "cell_type": "code",
   "execution_count": 48,
   "metadata": {},
   "outputs": [],
   "source": [
    "import numpy as np\n",
    "def get_kind_number(express, desired):\n",
    "    str_len = len(express)\n",
    "    t_array = np.zeros((str_len, str_len))\n",
    "    f_array = np.zeros((str_len, str_len))\n",
    "    t_array[0][0] = 1 if express[0]=='1' else 0\n",
    "    f_array[0][0] = 1 if express[0]=='0' else 0\n",
    "    i=2\n",
    "    while i<str_len:\n",
    "        t_array[i][i] = 1 if express[i]=='1' else 0\n",
    "        f_array[i][i] = 1 if express[i]=='0' else 0\n",
    "        \n",
    "        j=i-2\n",
    "        while j>=0:\n",
    "            k=j\n",
    "            while k<i:\n",
    "                if express[k+1]=='&':\n",
    "                    t_array[j][i]+=t_array[j][k]*t_array[k+2][i]\n",
    "                    f_array[j][i]+=f_array[j][k]*(f_array[k+2][i]+t_array[k+2][i])+t_array[j][k]*f_array[k+2][i]\n",
    "                elif express[k+1]=='|':\n",
    "                    f_array[j][i]+=f_array[j][k]*f_array[k+2][i]\n",
    "                    t_array[j][i]+=t_array[j][k]*(f_array[k+2][i]+t_array[k+2][i])+f_array[j][k]*f_array[k+2][i]\n",
    "                elif express[k+1]=='^':\n",
    "                    t_array[j][i]+=(t_array[j][k]*f_array[k+2][i]+f_array[j][k]*t_array[k+2][i])\n",
    "                    \n",
    "                    f_array[j][i]+=(t_array[j][k]*t_array[k+2][i]+f_array[j][k]*f_array[k+2][i])\n",
    "                if i==4 and j==0:\n",
    "                        print(f_array[j][i], k, f_array[j][k], f_array[k+2][i], express[j:i+1], express[k+1])\n",
    "                k+=2\n",
    "#             print(f_array[j][i], express[j:i+1], j, i)\n",
    "            j-=2\n",
    "        i+=2\n",
    "    print(t_array)\n",
    "    print(f_array)\n",
    "    return t_array[0][str_len-1] if desired else f_array[0][str_len-1]"
   ]
  },
  {
   "cell_type": "code",
   "execution_count": 49,
   "metadata": {},
   "outputs": [
    {
     "name": "stdout",
     "output_type": "stream",
     "text": [
      "1.0 0 0.0 1.0 1^0|0 ^\n",
      "1.0 2 0.0 1.0 1^0|0 |\n",
      "[[1. 0. 1. 0. 2. 0. 2.]\n",
      " [0. 0. 0. 0. 0. 0. 0.]\n",
      " [0. 0. 0. 0. 1. 0. 1.]\n",
      " [0. 0. 0. 0. 0. 0. 0.]\n",
      " [0. 0. 0. 0. 0. 0. 0.]\n",
      " [0. 0. 0. 0. 0. 0. 0.]\n",
      " [0. 0. 0. 0. 0. 0. 1.]]\n",
      "[[0. 0. 0. 0. 1. 0. 1.]\n",
      " [0. 0. 0. 0. 0. 0. 0.]\n",
      " [0. 0. 1. 0. 1. 0. 0.]\n",
      " [0. 0. 0. 0. 0. 0. 0.]\n",
      " [0. 0. 0. 0. 1. 0. 0.]\n",
      " [0. 0. 0. 0. 0. 0. 0.]\n",
      " [0. 0. 0. 0. 0. 0. 0.]]\n"
     ]
    },
    {
     "data": {
      "text/plain": [
       "1.0"
      ]
     },
     "execution_count": 49,
     "metadata": {},
     "output_type": "execute_result"
    }
   ],
   "source": [
    "get_kind_number('1^0|0|1', False)"
   ]
  },
  {
   "cell_type": "code",
   "execution_count": 5,
   "metadata": {},
   "outputs": [],
   "source": [
    "from pymongo import MongoClient"
   ]
  },
  {
   "cell_type": "code",
   "execution_count": 6,
   "metadata": {},
   "outputs": [],
   "source": [
    "client = MongoClient()"
   ]
  },
  {
   "cell_type": "code",
   "execution_count": 8,
   "metadata": {},
   "outputs": [
    {
     "data": {
      "text/plain": [
       "Collection(Database(MongoClient(host=['localhost:27017'], document_class=dict, tz_aware=False, connect=True), 'test'), 'Colletion')"
      ]
     },
     "execution_count": 8,
     "metadata": {},
     "output_type": "execute_result"
    }
   ],
   "source": [
    "client['test']['Colletion']"
   ]
  },
  {
   "cell_type": "code",
   "execution_count": null,
   "metadata": {},
   "outputs": [],
   "source": []
  }
 ],
 "metadata": {
  "kernelspec": {
   "display_name": "Python 3",
   "language": "python",
   "name": "python3"
  },
  "language_info": {
   "codemirror_mode": {
    "name": "ipython",
    "version": 3
   },
   "file_extension": ".py",
   "mimetype": "text/x-python",
   "name": "python",
   "nbconvert_exporter": "python",
   "pygments_lexer": "ipython3",
   "version": "3.6.5"
  }
 },
 "nbformat": 4,
 "nbformat_minor": 2
}
