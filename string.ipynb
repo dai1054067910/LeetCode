{
 "cells": [
  {
   "cell_type": "markdown",
   "metadata": {},
   "source": [
    "## Longest Palindromic Substring"
   ]
  },
  {
   "cell_type": "code",
   "execution_count": 17,
   "metadata": {},
   "outputs": [],
   "source": [
    "class Solution:\n",
    "    def longestPalindrome(self, s):\n",
    "        \"\"\"\n",
    "        :type s: str\n",
    "        :rtype: str\n",
    "        \"\"\"\n",
    "        list_len = len(s)\n",
    "        max_len = start = end = 0\n",
    "        import numpy as np\n",
    "        dp = np.zeros((list_len, list_len))\n",
    "        for j in range(list_len):\n",
    "            for i in range(j+1):\n",
    "                if (j==i) or (j==i+1 and s[i]==s[j]) or (j>i+1 and s[i]==s[j] and dp[i+1][j-1]==1):\n",
    "                    dp[i][j]=1\n",
    "                    if j-i+1 > max_len:\n",
    "                        max_len = j-i+1\n",
    "                        start = i\n",
    "                        end = j\n",
    "        return s[start:end+1]\n",
    "                    "
   ]
  },
  {
   "cell_type": "code",
   "execution_count": 18,
   "metadata": {},
   "outputs": [
    {
     "name": "stdout",
     "output_type": "stream",
     "text": [
      "[[ 1.  0.  1.  0.  0.]\n",
      " [ 0.  1.  0.  1.  0.]\n",
      " [ 0.  0.  1.  0.  0.]\n",
      " [ 0.  0.  0.  1.  0.]\n",
      " [ 0.  0.  0.  0.  1.]] 3\n"
     ]
    },
    {
     "data": {
      "text/plain": [
       "'bab'"
      ]
     },
     "execution_count": 18,
     "metadata": {},
     "output_type": "execute_result"
    }
   ],
   "source": [
    "solution = Solution()\n",
    "solution.longestPalindrome(\"babad\")"
   ]
  },
  {
   "cell_type": "markdown",
   "metadata": {},
   "source": [
    "## Length of Last Word"
   ]
  },
  {
   "cell_type": "code",
   "execution_count": 1,
   "metadata": {},
   "outputs": [],
   "source": [
    "class Solution:\n",
    "    def lengthOfLastWord(self, s):\n",
    "        \"\"\"\n",
    "        :type s: str\n",
    "        :rtype: int\n",
    "        \"\"\"\n",
    "        end = len(s)-1\n",
    "        while end>=0 and s[end]==' ':\n",
    "            end -= 1\n",
    "        begin=end\n",
    "        while begin>=0 and s[begin]!=' ':\n",
    "            begin-=1\n",
    "        return end-begin"
   ]
  },
  {
   "cell_type": "markdown",
   "metadata": {},
   "source": [
    "## Isomorphic Strings "
   ]
  },
  {
   "cell_type": "code",
   "execution_count": 5,
   "metadata": {},
   "outputs": [],
   "source": [
    "class Solution:\n",
    "    def isIsomorphic(self, s, t):\n",
    "        \"\"\"\n",
    "        :type s: str\n",
    "        :type t: str\n",
    "        :rtype: bool\n",
    "        \"\"\"\n",
    "        list_len = len(s)\n",
    "        if list_len != len(t):\n",
    "            return False\n",
    "        MAX_CHARS = 256\n",
    "        marked = [False]*256\n",
    "        st_map = [-1]*256\n",
    "        for index in range(list_len):\n",
    "            if st_map[ord(s[index])] == -1:\n",
    "                if marked[ord(t[index])]:\n",
    "                    return False\n",
    "                marked[ord(t[index])] = True\n",
    "                st_map[ord(s[index])] = t[index]\n",
    "            else:\n",
    "                if st_map[ord(s[index])] != t[index]:\n",
    "                    return False\n",
    "        \n",
    "        return True\n",
    "                \n",
    "                "
   ]
  },
  {
   "cell_type": "markdown",
   "metadata": {},
   "source": [
    "## Find and Replace Pattern"
   ]
  },
  {
   "cell_type": "code",
   "execution_count": 8,
   "metadata": {
    "scrolled": true
   },
   "outputs": [
    {
     "name": "stdout",
     "output_type": "stream",
     "text": [
      "['mee', 'aqq']\n"
     ]
    }
   ],
   "source": [
    "class Solution(object):\n",
    "    def findAndReplacePattern(self, words, pattern):\n",
    "        \"\"\"\n",
    "        :type words: List[str]\n",
    "        :type pattern: str\n",
    "        :rtype: List[str]\n",
    "        \"\"\"\n",
    "\n",
    "        def findAndReplaceHelp(word, pattern):\n",
    "            state_dic = {}\n",
    "            if len(word) != len(pattern):\n",
    "                return False\n",
    "            for index, key_ch in enumerate(word):\n",
    "                keys = state_dic.keys()\n",
    "                if key_ch in keys:\n",
    "                    if state_dic[key_ch] != pattern[index]:\n",
    "                        return False\n",
    "                else:\n",
    "                    state_dic[key_ch] = pattern[index]\n",
    "            values = state_dic.values()\n",
    "            if len(values) != len(set(values)):\n",
    "                return False\n",
    "            return True\n",
    "\n",
    "        result = []\n",
    "        for word in words:\n",
    "            if findAndReplaceHelp(word, pattern):\n",
    "                result.append(word)\n",
    "        return result\n",
    "\n",
    "            \n",
    "        \n",
    "test_str_list = [\"abc\",\"deq\",\"mee\",\"aqq\",\"dkd\",\"ccc\"]\n",
    "pattern = \"abb\"\n",
    "print(Solution().findAndReplacePattern(test_str_list, pattern))\n",
    "                    "
   ]
  },
  {
   "cell_type": "markdown",
   "metadata": {},
   "source": [
    "## Find the Closest Palindrome "
   ]
  },
  {
   "cell_type": "code",
   "execution_count": 1,
   "metadata": {},
   "outputs": [],
   "source": [
    "import math\n",
    "import sys\n",
    "class Solution(object):\n",
    "    def nearestPalindromic(self, n):\n",
    "        \"\"\"\n",
    "        :type n: str\n",
    "        :rtype: str\n",
    "        \"\"\"\n",
    "        size = len(n)\n",
    "        if size==1:\n",
    "            return str(int(n)-1)\n",
    "        \n",
    "        result = []\n",
    "        result.append('9'*(size-1))\n",
    "        result.append('1'+'0'*(size-1)+'1')\n",
    "        odd_reverse = lambda x:x+x[::-1][1:]\n",
    "        even_reverse = lambda x:x+x[::-1]\n",
    "        middle = math.ceil(size/2)\n",
    "        pre_half_num = n[:middle]\n",
    "        \n",
    "        if size%2 == 0:\n",
    "            print('even: ',pre_half_num, even_reverse(pre_half_num))\n",
    "            result.append(even_reverse(pre_half_num))\n",
    "            result.append(even_reverse(str(int(pre_half_num)-1)))\n",
    "            result.append(even_reverse(str(int(pre_half_num)+1)))\n",
    "        else:\n",
    "            print('odd: ', pre_half_num, odd_reverse(pre_half_num))\n",
    "            result.append(odd_reverse(pre_half_num))\n",
    "            result.append(odd_reverse(str(int(pre_half_num)-1)))\n",
    "            result.append(odd_reverse(str(int(pre_half_num)+1)))\n",
    "            \n",
    "        def get_distance(num, target):\n",
    "            return abs(int(num) - int(target))\n",
    "        \n",
    "        min_distance = sys.maxsize\n",
    "        result_index = -1\n",
    "        for index, num_str in enumerate(result):\n",
    "            distance = get_distance(num_str, n)\n",
    "            if (distance !=0 and distance<min_distance) or (distance==min_distance and int(num_str)<int(result[result_index])):\n",
    "                result_index = index\n",
    "                min_distance = distance\n",
    "        \n",
    "        return result[result_index]"
   ]
  },
  {
   "cell_type": "markdown",
   "metadata": {},
   "source": [
    "## Fraction Addition and Subtraction"
   ]
  },
  {
   "cell_type": "code",
   "execution_count": 29,
   "metadata": {},
   "outputs": [],
   "source": [
    "import re\n",
    "from functools import reduce\n",
    "class Solution:\n",
    "    def fractionAddition(self, expression):\n",
    "        \"\"\"\n",
    "        :type expression: str\n",
    "        :rtype: str\n",
    "        \"\"\"\n",
    "        if re.match('[1-9]', expression[0]):\n",
    "            expression = '+' + expression\n",
    "        index = 0\n",
    "        count = 0\n",
    "        numerator_list = []\n",
    "        denominator_list = []\n",
    "        while index<len(expression):\n",
    "            i = count%3\n",
    "            if i==0:\n",
    "                numerator_list.append(int(expression[index:index+2]))\n",
    "                index += 2\n",
    "                count += 1\n",
    "            elif i==1:\n",
    "                if expression[index] != '/':\n",
    "                    denominator_list.append(int(expression[index]))\n",
    "                    index += 1\n",
    "                    count += 2\n",
    "                else:\n",
    "                    index += 1\n",
    "                    count += 1\n",
    "            elif i==2:\n",
    "                denominator_list.append(int(expression[index]))\n",
    "                index += 1\n",
    "                count += 1\n",
    "            \n",
    "        total_denominator = reduce(lambda x, y:x*y, denominator_list)\n",
    "        total_numerator = 0\n",
    "        for index, numerator in enumerate(numerator_list):\n",
    "            total_numerator += int(total_denominator/denominator_list[index]*numerator)\n",
    "        print('total_denominator: ', total_denominator)\n",
    "        print('total_numerator: ', total_numerator)\n",
    "        print('denominator_list: ', denominator_list)\n",
    "        print('numerator_list: ', numerator_list)\n",
    "        \n",
    "        def getMaxDivisor(denominator, numerator):\n",
    "            if numerator == 0:\n",
    "                return 0\n",
    "            denominator = abs(denominator)\n",
    "            numerator = abs(numerator)\n",
    "            i = max(denominator, numerator)\n",
    "            j = min(denominator, numerator)\n",
    "            divisor = i-j\n",
    "            \n",
    "            while divisor > 1:\n",
    "                i = max(j, divisor)\n",
    "                j = min(j, divisor)\n",
    "                divisor = i -j\n",
    "            if divisor == 0:\n",
    "                return numerator\n",
    "            else:\n",
    "                return 1\n",
    "        \n",
    "        divisor = getMaxDivisor(total_denominator, total_numerator)\n",
    "        if divisor==0:\n",
    "            return '0/1'\n",
    "        return str(int(total_numerator/divisor)) + '/' + str(int(total_denominator/divisor))"
   ]
  },
  {
   "cell_type": "markdown",
   "metadata": {},
   "source": [
    "## Number of Matching Subsequences "
   ]
  },
  {
   "cell_type": "code",
   "execution_count": 21,
   "metadata": {},
   "outputs": [],
   "source": [
    "class Solution:\n",
    "    def numMatchingSubseq(self, S, words):\n",
    "        \"\"\"\n",
    "        :type S: str\n",
    "        :type words: List[str]\n",
    "        :rtype: int\n",
    "        \"\"\"\n",
    "        count_dic = {i:[0, len(words[i])] for i in range(len(words))}\n",
    "#         print('init count_dic: ', count_dic)\n",
    "        \n",
    "        for s in S:\n",
    "            remove_keys = []\n",
    "            for key, value in count_dic.items():\n",
    "#                 print('key: ', key, 'value: ', value)\n",
    "                if s == words[key][value[0]]:\n",
    "                    value[0] += 1\n",
    "                if value[0] == value[1]:\n",
    "                    remove_keys.append(key)\n",
    "            for key in remove_keys:\n",
    "                print('remove: ', count_dic[key])\n",
    "                del count_dic[key]\n",
    "                \n",
    "        return len(words) - len(count_dic)"
   ]
  },
  {
   "cell_type": "code",
   "execution_count": 22,
   "metadata": {},
   "outputs": [
    {
     "name": "stdout",
     "output_type": "stream",
     "text": [
      "init count_dic:  {0: [0, 1], 1: [0, 2], 2: [0, 3], 3: [0, 3]}\n",
      "key:  0 value:  [0, 1]\n",
      "key:  1 value:  [0, 2]\n",
      "key:  2 value:  [0, 3]\n",
      "key:  3 value:  [0, 3]\n",
      "remove:  [1, 1]\n",
      "key:  1 value:  [0, 2]\n",
      "key:  2 value:  [1, 3]\n",
      "key:  3 value:  [1, 3]\n",
      "key:  1 value:  [1, 2]\n",
      "key:  2 value:  [1, 3]\n",
      "key:  3 value:  [1, 3]\n",
      "key:  1 value:  [1, 2]\n",
      "key:  2 value:  [2, 3]\n",
      "key:  3 value:  [2, 3]\n",
      "remove:  [3, 3]\n",
      "key:  1 value:  [1, 2]\n",
      "key:  3 value:  [2, 3]\n",
      "remove:  [3, 3]\n"
     ]
    },
    {
     "data": {
      "text/plain": [
       "3"
      ]
     },
     "execution_count": 22,
     "metadata": {},
     "output_type": "execute_result"
    }
   ],
   "source": [
    "solution = Solution()\n",
    "S = 'abcde'\n",
    "words = [\"a\", \"bb\", \"acd\", \"ace\"]\n",
    "solution.numMatchingSubseq(S, words)"
   ]
  },
  {
   "cell_type": "code",
   "execution_count": 3,
   "metadata": {},
   "outputs": [
    {
     "name": "stdout",
     "output_type": "stream",
     "text": [
      "1\n",
      "2\n"
     ]
    }
   ],
   "source": [
    "a = {1:2, 2:3}\n",
    "for x in a:\n",
    "    print(x)"
   ]
  },
  {
   "cell_type": "code",
   "execution_count": null,
   "metadata": {},
   "outputs": [],
   "source": []
  }
 ],
 "metadata": {
  "kernelspec": {
   "display_name": "Python 3",
   "language": "python",
   "name": "python3"
  },
  "language_info": {
   "codemirror_mode": {
    "name": "ipython",
    "version": 3
   },
   "file_extension": ".py",
   "mimetype": "text/x-python",
   "name": "python",
   "nbconvert_exporter": "python",
   "pygments_lexer": "ipython3",
   "version": "3.6.5"
  }
 },
 "nbformat": 4,
 "nbformat_minor": 2
}
