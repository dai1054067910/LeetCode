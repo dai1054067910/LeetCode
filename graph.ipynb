{
 "cells": [
  {
   "cell_type": "code",
   "execution_count": 27,
   "metadata": {},
   "outputs": [],
   "source": [
    "def canFinish(numCourses, prerequisites):\n",
    "    \"\"\"\n",
    "    :type numCourses: int\n",
    "    :type prerequisites: List[List[int]]\n",
    "    :rtype: bool\n",
    "    \"\"\"\n",
    "    # build graph\n",
    "    graph = a = {x: set() for x in range(numCourses)}\n",
    "    for edge in prerequisites:\n",
    "        if isinstance(edge, list) and len(edge) == 2:\n",
    "            graph[edge[1]].add(edge[0])\n",
    "\n",
    "    # use dfs check if contain cycle\n",
    "    def dfs(node, state):\n",
    "        if state[node] == 1:\n",
    "            print(node, state)\n",
    "            return False\n",
    "        state[node] = 1\n",
    "        for i in graph[node]:\n",
    "            if dfs(i, state) == False:\n",
    "                return False\n",
    "        state[node] = 0\n",
    "\n",
    "    for i in range(numCourses):\n",
    "        state = [0 for x in range(numCourses)]\n",
    "        if dfs(i, state) == False:\n",
    "            return False\n",
    "    return True"
   ]
  },
  {
   "cell_type": "code",
   "execution_count": 18,
   "metadata": {},
   "outputs": [
    {
     "ename": "AttributeError",
     "evalue": "'list' object has no attribute 'add'",
     "output_type": "error",
     "traceback": [
      "\u001b[1;31m---------------------------------------------------------------------------\u001b[0m",
      "\u001b[1;31mAttributeError\u001b[0m                            Traceback (most recent call last)",
      "\u001b[1;32m<ipython-input-18-0e50b3d9b65e>\u001b[0m in \u001b[0;36m<module>\u001b[1;34m()\u001b[0m\n\u001b[0;32m      1\u001b[0m \u001b[0mgraph\u001b[0m \u001b[1;33m=\u001b[0m \u001b[0mdict\u001b[0m\u001b[1;33m.\u001b[0m\u001b[0mfromkeys\u001b[0m\u001b[1;33m(\u001b[0m\u001b[0mrange\u001b[0m\u001b[1;33m(\u001b[0m\u001b[1;36m8\u001b[0m\u001b[1;33m)\u001b[0m\u001b[1;33m,\u001b[0m \u001b[1;33m[\u001b[0m\u001b[1;33m]\u001b[0m\u001b[1;33m)\u001b[0m\u001b[1;33m\u001b[0m\u001b[0m\n\u001b[1;32m----> 2\u001b[1;33m \u001b[0mgraph\u001b[0m\u001b[1;33m[\u001b[0m\u001b[1;36m0\u001b[0m\u001b[1;33m]\u001b[0m\u001b[1;33m.\u001b[0m\u001b[0madd\u001b[0m\u001b[1;33m(\u001b[0m\u001b[1;36m1\u001b[0m\u001b[1;33m)\u001b[0m\u001b[1;33m\u001b[0m\u001b[0m\n\u001b[0m",
      "\u001b[1;31mAttributeError\u001b[0m: 'list' object has no attribute 'add'"
     ]
    }
   ],
   "source": [
    "def findOrder(self, numCourses, prerequisites):\n",
    "    \"\"\"\n",
    "    :type numCourses: int\n",
    "    :type prerequisites: List[List[int]]\n",
    "    :rtype: List[int]\n",
    "    \"\"\"\n",
    "    # build graph\n",
    "    degrees = [0] * numCourses\n",
    "    childs = [[] for i in range(numCourses)]\n",
    "    for edge in prerequisites:\n",
    "        childs[edge[1]].append(edge[0])\n",
    "    for i in range(numCourses):\n",
    "        for child in childs[i]:\n",
    "            degrees[child] += 1\n",
    "    \n",
    "    # topological sort\n",
    "    left_courses = set(range(numCourses))\n",
    "    result = []\n",
    "    while True:\n",
    "        if len(left_courses) == 0:\n",
    "            return False\n",
    "        tmp = -1\n",
    "        for course in left_courses:\n",
    "            if degrees[course]==0:\n",
    "                tmp = course\n",
    "                for child in childs[tmp]:\n",
    "                    degrees[child] -= 1\n",
    "                break    \n",
    "            if course == left_courses[len(left_courses)-1]:\n",
    "                return False\n",
    "        left_courses.remove(tmp)\n",
    "        result.append(tmp)\n",
    "    return result\n",
    "        \n",
    "        "
   ]
  },
  {
   "cell_type": "code",
   "execution_count": 33,
   "metadata": {},
   "outputs": [
    {
     "data": {
      "text/plain": [
       "{1, 2, 3}"
      ]
     },
     "execution_count": 33,
     "metadata": {},
     "output_type": "execute_result"
    }
   ],
   "source": [
    "a=set([1, 2, 3])\n",
    "a"
   ]
  },
  {
   "cell_type": "code",
   "execution_count": 35,
   "metadata": {},
   "outputs": [
    {
     "data": {
      "text/plain": [
       "3"
      ]
     },
     "execution_count": 35,
     "metadata": {},
     "output_type": "execute_result"
    }
   ],
   "source": [
    "len(a)"
   ]
  },
  {
   "cell_type": "code",
   "execution_count": 30,
   "metadata": {},
   "outputs": [
    {
     "data": {
      "text/plain": [
       "{0: set(), 1: {2}, 2: set(), 3: set(), 4: set(), 5: set(), 6: set(), 7: set()}"
      ]
     },
     "execution_count": 30,
     "metadata": {},
     "output_type": "execute_result"
    }
   ],
   "source": [
    "a[1].add(2)\n",
    "a"
   ]
  },
  {
   "cell_type": "code",
   "execution_count": null,
   "metadata": {},
   "outputs": [],
   "source": []
  }
 ],
 "metadata": {
  "kernelspec": {
   "display_name": "Python 3",
   "language": "python",
   "name": "python3"
  },
  "language_info": {
   "codemirror_mode": {
    "name": "ipython",
    "version": 3
   },
   "file_extension": ".py",
   "mimetype": "text/x-python",
   "name": "python",
   "nbconvert_exporter": "python",
   "pygments_lexer": "ipython3",
   "version": "3.6.5"
  }
 },
 "nbformat": 4,
 "nbformat_minor": 2
}
