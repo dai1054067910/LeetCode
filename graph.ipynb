{
 "cells": [
  {
   "cell_type": "code",
   "execution_count": 27,
   "metadata": {},
   "outputs": [],
   "source": [
    "def canFinish(numCourses, prerequisites):\n",
    "    \"\"\"\n",
    "    :type numCourses: int\n",
    "    :type prerequisites: List[List[int]]\n",
    "    :rtype: bool\n",
    "    \"\"\"\n",
    "    # build graph\n",
    "    graph = a = {x: set() for x in range(numCourses)}\n",
    "    for edge in prerequisites:\n",
    "        if isinstance(edge, list) and len(edge) == 2:\n",
    "            graph[edge[1]].add(edge[0])\n",
    "\n",
    "    # use dfs check if contain cycle\n",
    "    def dfs(node, state):\n",
    "        if state[node] == 1:\n",
    "            print(node, state)\n",
    "            return False\n",
    "        state[node] = 1\n",
    "        for i in graph[node]:\n",
    "            if dfs(i, state) == False:\n",
    "                return False\n",
    "        state[node] = 0\n",
    "\n",
    "    for i in range(numCourses):\n",
    "        state = [0 for x in range(numCourses)]\n",
    "        if dfs(i, state) == False:\n",
    "            return False\n",
    "    return True"
   ]
  },
  {
   "cell_type": "code",
   "execution_count": 36,
   "metadata": {},
   "outputs": [],
   "source": [
    "def findOrder(numCourses, prerequisites):\n",
    "    \"\"\"\n",
    "    :type numCourses: int\n",
    "    :type prerequisites: List[List[int]]\n",
    "    :rtype: List[int]\n",
    "    \"\"\"\n",
    "    # build graph\n",
    "    degrees = [0] * numCourses\n",
    "    childs = [[] for i in range(numCourses)]\n",
    "    for edge in prerequisites:\n",
    "        childs[edge[1]].append(edge[0])\n",
    "    for i in range(numCourses):\n",
    "        for child in childs[i]:\n",
    "            degrees[child] += 1\n",
    "\n",
    "    print('degrees: ', degrees)\n",
    "    print('childs: ', childs)\n",
    "    # topological sort\n",
    "    left_courses = set(range(numCourses))\n",
    "    result = []\n",
    "    flag = True\n",
    "    while flag and len(left_courses):\n",
    "        flag = False\n",
    "        tmp = -1\n",
    "        for course in left_courses:\n",
    "            if degrees[course] == 0:\n",
    "                flag = True\n",
    "                tmp = course\n",
    "                for child in childs[tmp]:\n",
    "                    degrees[child] -= 1\n",
    "                break\n",
    "        if flag:\n",
    "            left_courses.remove(tmp)\n",
    "            result.append(tmp)\n",
    "        else:\n",
    "            return []\n",
    "\n",
    "    return result"
   ]
  }
 ],
 "metadata": {
  "kernelspec": {
   "display_name": "Python 3",
   "language": "python",
   "name": "python3"
  },
  "language_info": {
   "codemirror_mode": {
    "name": "ipython",
    "version": 3
   },
   "file_extension": ".py",
   "mimetype": "text/x-python",
   "name": "python",
   "nbconvert_exporter": "python",
   "pygments_lexer": "ipython3",
   "version": "3.6.5"
  }
 },
 "nbformat": 4,
 "nbformat_minor": 2
}
