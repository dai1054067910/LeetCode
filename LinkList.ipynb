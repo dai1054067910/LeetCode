{
 "cells": [
  {
   "cell_type": "markdown",
   "metadata": {},
   "source": [
    "## Linked List Cycle"
   ]
  },
  {
   "cell_type": "code",
   "execution_count": 8,
   "metadata": {},
   "outputs": [],
   "source": [
    "class ListNode(object):\n",
    "    def __init__(self, x):\n",
    "        self.val = x\n",
    "        self.next = None\n",
    "        \n",
    "class Solution(object):\n",
    "    def hasCycle(self, head):\n",
    "        \"\"\"\n",
    "        :type head: ListNode\n",
    "        :rtype: bool\n",
    "        \"\"\"\n",
    "        first = second =  head\n",
    "        while second!=None and second.next != None and second.next.next != None:\n",
    "            first = first.next\n",
    "            second = second.next.next\n",
    "            if first.val == second.val:\n",
    "                return True\n",
    "\n",
    "        return False \n"
   ]
  },
  {
   "cell_type": "markdown",
   "metadata": {},
   "source": [
    "## Linked List Cycle II"
   ]
  },
  {
   "cell_type": "code",
   "execution_count": 18,
   "metadata": {},
   "outputs": [],
   "source": [
    "class Solution(object):\n",
    "    def detectCycle(self, head):\n",
    "        \"\"\"\n",
    "        :type head: ListNode\n",
    "        :rtype: ListNode\n",
    "        \"\"\"\n",
    "        first = second =  head\n",
    "        while second != None and second.next != None and second.next.next != None:\n",
    "            first = first.next\n",
    "            second = second.next.next\n",
    "            if first.val == second.val:\n",
    "                first = head\n",
    "                while True:\n",
    "                    if first.val == second.val:\n",
    "                        return first.val\n",
    "                    first = first.next\n",
    "                    second = second.next\n",
    "        return None"
   ]
  },
  {
   "cell_type": "code",
   "execution_count": 25,
   "metadata": {},
   "outputs": [
    {
     "data": {
      "text/plain": [
       "1"
      ]
     },
     "execution_count": 25,
     "metadata": {},
     "output_type": "execute_result"
    }
   ],
   "source": [
    "array = [1, 1]\n",
    "dic = {}\n",
    "\n",
    "head = None\n",
    "for i in array:\n",
    "    if i not in dic:\n",
    "        dic[i] = ListNode(i)\n",
    "\n",
    "for index in range(1, len(array)):\n",
    "    dic[array[index-1]].next = dic[array[index]] \n",
    "\n",
    "solution = Solution()\n",
    "solution.detectCycle(dic[array[0]])"
   ]
  },
  {
   "cell_type": "code",
   "execution_count": null,
   "metadata": {},
   "outputs": [],
   "source": []
  }
 ],
 "metadata": {
  "kernelspec": {
   "display_name": "Python 3",
   "language": "python",
   "name": "python3"
  },
  "language_info": {
   "codemirror_mode": {
    "name": "ipython",
    "version": 3
   },
   "file_extension": ".py",
   "mimetype": "text/x-python",
   "name": "python",
   "nbconvert_exporter": "python",
   "pygments_lexer": "ipython3",
   "version": "3.6.5"
  }
 },
 "nbformat": 4,
 "nbformat_minor": 2
}
